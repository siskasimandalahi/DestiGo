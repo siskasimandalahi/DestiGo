{
  "nbformat": 4,
  "nbformat_minor": 0,
  "metadata": {
    "colab": {
      "provenance": []
    },
    "kernelspec": {
      "name": "python3",
      "display_name": "Python 3"
    },
    "language_info": {
      "name": "python"
    }
  },
  "cells": [
    {
      "cell_type": "markdown",
      "source": [
        "# Get dataset from GitHub"
      ],
      "metadata": {
        "id": "FQlYv4-RGz9e"
      }
    },
    {
      "cell_type": "code",
      "source": [
        "!wget https://raw.githubusercontent.com/siskasimandalahi/DestiGo/Machine-Learning/Dataset/data_destinasi_wisata.csv"
      ],
      "metadata": {
        "colab": {
          "base_uri": "https://localhost:8080/"
        },
        "id": "8iagWnliGYmv",
        "outputId": "f936b537-4c3f-4ded-91cc-16baff3e26a6"
      },
      "execution_count": 1,
      "outputs": [
        {
          "output_type": "stream",
          "name": "stdout",
          "text": [
            "--2023-06-06 14:35:19--  https://raw.githubusercontent.com/siskasimandalahi/DestiGo/Machine-Learning/Dataset/data_destinasi_wisata.csv\n",
            "Resolving raw.githubusercontent.com (raw.githubusercontent.com)... 185.199.108.133, 185.199.109.133, 185.199.110.133, ...\n",
            "Connecting to raw.githubusercontent.com (raw.githubusercontent.com)|185.199.108.133|:443... connected.\n",
            "HTTP request sent, awaiting response... 200 OK\n",
            "Length: 378078 (369K) [text/plain]\n",
            "Saving to: ‘data_destinasi_wisata.csv’\n",
            "\n",
            "data_destinasi_wisa 100%[===================>] 369.22K  --.-KB/s    in 0.04s   \n",
            "\n",
            "2023-06-06 14:35:19 (8.43 MB/s) - ‘data_destinasi_wisata.csv’ saved [378078/378078]\n",
            "\n"
          ]
        }
      ]
    },
    {
      "cell_type": "markdown",
      "source": [
        "# **Import the required Library**\n",
        "**Don't forget the important library and mandatory -> TensorFlow** ❤"
      ],
      "metadata": {
        "id": "MMjtDr2Bw6kN"
      }
    },
    {
      "cell_type": "markdown",
      "source": [
        "**FYI**\n",
        "\n",
        "Sastrawi is an open-source library for the Indonesian language stemming in the field of natural language processing (NLP). Stemming is the process of reducing words to their base or root form, which helps in normalizing and simplifying the text for further analysis or processing.\n",
        "\n",
        "The Sastrawi library is specifically designed for the Indonesian language and provides various stemming algorithms and functions. It allows developers and researchers to perform tasks such as tokenization (splitting text into individual words or tokens), stemming, and stop-word removal."
      ],
      "metadata": {
        "id": "QQEsAkzSH_5e"
      }
    },
    {
      "cell_type": "code",
      "source": [
        "#using Sastrawi\n",
        "!pip install Sastrawi"
      ],
      "metadata": {
        "colab": {
          "base_uri": "https://localhost:8080/"
        },
        "id": "ydJnZAaDH0XC",
        "outputId": "290cab21-780e-4ca5-dead-7637feca4820"
      },
      "execution_count": 2,
      "outputs": [
        {
          "output_type": "stream",
          "name": "stdout",
          "text": [
            "Looking in indexes: https://pypi.org/simple, https://us-python.pkg.dev/colab-wheels/public/simple/\n",
            "Collecting Sastrawi\n",
            "  Downloading Sastrawi-1.0.1-py2.py3-none-any.whl (209 kB)\n",
            "\u001b[2K     \u001b[90m━━━━━━━━━━━━━━━━━━━━━━━━━━━━━━━━━━━━━━━\u001b[0m \u001b[32m209.7/209.7 kB\u001b[0m \u001b[31m5.4 MB/s\u001b[0m eta \u001b[36m0:00:00\u001b[0m\n",
            "\u001b[?25hInstalling collected packages: Sastrawi\n",
            "Successfully installed Sastrawi-1.0.1\n"
          ]
        }
      ]
    },
    {
      "cell_type": "code",
      "execution_count": 3,
      "metadata": {
        "id": "VMBSJEImv-iR"
      },
      "outputs": [],
      "source": [
        "# for modelling\n",
        "import tensorflow as tf\n",
        "from tensorflow import keras\n",
        "from tensorflow.keras import layers\n",
        "\n",
        "# visualization\n",
        "import matplotlib.pyplot as plt\n",
        "import seaborn as sns\n",
        "\n",
        "# for data processing\n",
        "import pandas as pd\n",
        "import numpy as np\n",
        "from sklearn.feature_extraction.text import TfidfVectorizer\n",
        "from Sastrawi.Stemmer.StemmerFactory import StemmerFactory\n",
        "from Sastrawi.StopWordRemover.StopWordRemoverFactory import StopWordRemoverFactory\n",
        "from sklearn.metrics.pairwise import cosine_similarity\n",
        "\n",
        "# Initialize\n",
        "tv = TfidfVectorizer(max_features=5000)\n",
        "stem = StemmerFactory().create_stemmer()\n",
        "stopword = StopWordRemoverFactory().create_stop_word_remover()"
      ]
    },
    {
      "cell_type": "markdown",
      "source": [
        "# Data Understanding\n",
        "this is section that read the data and we make a upload manual the csv file.\n",
        "We make a plan that the data is put into github so we not upload every time reconnect the runtike of colab"
      ],
      "metadata": {
        "id": "655-2UZ0ycfO"
      }
    },
    {
      "cell_type": "code",
      "source": [
        "# read the data\n",
        "all_data = pd.read_csv('data_destinasi_wisata.csv')"
      ],
      "metadata": {
        "id": "HQqJTmvMzBhU"
      },
      "execution_count": 4,
      "outputs": []
    },
    {
      "cell_type": "code",
      "source": [
        "all_data.sample(5)"
      ],
      "metadata": {
        "colab": {
          "base_uri": "https://localhost:8080/",
          "height": 337
        },
        "id": "DqhAT7lhzcYj",
        "outputId": "d2534059-b6ca-4a7b-cebb-bacb1cf7cdb9"
      },
      "execution_count": 5,
      "outputs": [
        {
          "output_type": "execute_result",
          "data": {
            "text/plain": [
              "      id                                 nama_tempat       kategori  \\\n",
              "21    22                           Happyfarm Ciwidey  Taman Hiburan   \n",
              "287  288                               Nampan Bistro        Kuliner   \n",
              "34    35                   Selasar Sunaryo Art Space  Taman Hiburan   \n",
              "296  297                             Handayani Prima        Kuliner   \n",
              "103  104  Babakan Siliwangi City Forest Path Bandung           Alam   \n",
              "\n",
              "                kota                                             alamat  \\\n",
              "21           Bandung  Cikembang, Panundaan, Kec. Ciwidey, Kabupaten ...   \n",
              "287  Jakarta Selatan  Jl Raya Pasar Minggu KM 18.2 No 72R RT.6/RW.1 ...   \n",
              "34           Bandung  Jl. Bukit Pakar Timur No.100, Ciburial, Kec. C...   \n",
              "296    Jakarta Timur  Jl. Matraman Raya No.45, RT.1/RW.3, Palmeriam,...   \n",
              "103          Bandung  Jl. Tamansari No.90, Lb. Siliwangi, Kecamatan ...   \n",
              "\n",
              "                                             deskripsi       lat        long  \n",
              "21   Happyfarm Ciwidey adalah destinasi wisata yang... -7.114788  107.438086  \n",
              "287  Indonesian Western Fusion Bistro menyediakan t... -6.267507  106.845548  \n",
              "34   Selasar Sunaryo Art Space adalah sebuah galeri... -6.858541  107.636549  \n",
              "296  Handayani Prima merupakan sebuah restoran yang... -6.201739  106.856766  \n",
              "103  Babakan Siliwangi City Forest Path adalah sebu... -6.885375  107.611190  "
            ],
            "text/html": [
              "\n",
              "  <div id=\"df-276db77f-bdc2-4654-b8b6-2dd504454d33\">\n",
              "    <div class=\"colab-df-container\">\n",
              "      <div>\n",
              "<style scoped>\n",
              "    .dataframe tbody tr th:only-of-type {\n",
              "        vertical-align: middle;\n",
              "    }\n",
              "\n",
              "    .dataframe tbody tr th {\n",
              "        vertical-align: top;\n",
              "    }\n",
              "\n",
              "    .dataframe thead th {\n",
              "        text-align: right;\n",
              "    }\n",
              "</style>\n",
              "<table border=\"1\" class=\"dataframe\">\n",
              "  <thead>\n",
              "    <tr style=\"text-align: right;\">\n",
              "      <th></th>\n",
              "      <th>id</th>\n",
              "      <th>nama_tempat</th>\n",
              "      <th>kategori</th>\n",
              "      <th>kota</th>\n",
              "      <th>alamat</th>\n",
              "      <th>deskripsi</th>\n",
              "      <th>lat</th>\n",
              "      <th>long</th>\n",
              "    </tr>\n",
              "  </thead>\n",
              "  <tbody>\n",
              "    <tr>\n",
              "      <th>21</th>\n",
              "      <td>22</td>\n",
              "      <td>Happyfarm Ciwidey</td>\n",
              "      <td>Taman Hiburan</td>\n",
              "      <td>Bandung</td>\n",
              "      <td>Cikembang, Panundaan, Kec. Ciwidey, Kabupaten ...</td>\n",
              "      <td>Happyfarm Ciwidey adalah destinasi wisata yang...</td>\n",
              "      <td>-7.114788</td>\n",
              "      <td>107.438086</td>\n",
              "    </tr>\n",
              "    <tr>\n",
              "      <th>287</th>\n",
              "      <td>288</td>\n",
              "      <td>Nampan Bistro</td>\n",
              "      <td>Kuliner</td>\n",
              "      <td>Jakarta Selatan</td>\n",
              "      <td>Jl Raya Pasar Minggu KM 18.2 No 72R RT.6/RW.1 ...</td>\n",
              "      <td>Indonesian Western Fusion Bistro menyediakan t...</td>\n",
              "      <td>-6.267507</td>\n",
              "      <td>106.845548</td>\n",
              "    </tr>\n",
              "    <tr>\n",
              "      <th>34</th>\n",
              "      <td>35</td>\n",
              "      <td>Selasar Sunaryo Art Space</td>\n",
              "      <td>Taman Hiburan</td>\n",
              "      <td>Bandung</td>\n",
              "      <td>Jl. Bukit Pakar Timur No.100, Ciburial, Kec. C...</td>\n",
              "      <td>Selasar Sunaryo Art Space adalah sebuah galeri...</td>\n",
              "      <td>-6.858541</td>\n",
              "      <td>107.636549</td>\n",
              "    </tr>\n",
              "    <tr>\n",
              "      <th>296</th>\n",
              "      <td>297</td>\n",
              "      <td>Handayani Prima</td>\n",
              "      <td>Kuliner</td>\n",
              "      <td>Jakarta Timur</td>\n",
              "      <td>Jl. Matraman Raya No.45, RT.1/RW.3, Palmeriam,...</td>\n",
              "      <td>Handayani Prima merupakan sebuah restoran yang...</td>\n",
              "      <td>-6.201739</td>\n",
              "      <td>106.856766</td>\n",
              "    </tr>\n",
              "    <tr>\n",
              "      <th>103</th>\n",
              "      <td>104</td>\n",
              "      <td>Babakan Siliwangi City Forest Path Bandung</td>\n",
              "      <td>Alam</td>\n",
              "      <td>Bandung</td>\n",
              "      <td>Jl. Tamansari No.90, Lb. Siliwangi, Kecamatan ...</td>\n",
              "      <td>Babakan Siliwangi City Forest Path adalah sebu...</td>\n",
              "      <td>-6.885375</td>\n",
              "      <td>107.611190</td>\n",
              "    </tr>\n",
              "  </tbody>\n",
              "</table>\n",
              "</div>\n",
              "      <button class=\"colab-df-convert\" onclick=\"convertToInteractive('df-276db77f-bdc2-4654-b8b6-2dd504454d33')\"\n",
              "              title=\"Convert this dataframe to an interactive table.\"\n",
              "              style=\"display:none;\">\n",
              "        \n",
              "  <svg xmlns=\"http://www.w3.org/2000/svg\" height=\"24px\"viewBox=\"0 0 24 24\"\n",
              "       width=\"24px\">\n",
              "    <path d=\"M0 0h24v24H0V0z\" fill=\"none\"/>\n",
              "    <path d=\"M18.56 5.44l.94 2.06.94-2.06 2.06-.94-2.06-.94-.94-2.06-.94 2.06-2.06.94zm-11 1L8.5 8.5l.94-2.06 2.06-.94-2.06-.94L8.5 2.5l-.94 2.06-2.06.94zm10 10l.94 2.06.94-2.06 2.06-.94-2.06-.94-.94-2.06-.94 2.06-2.06.94z\"/><path d=\"M17.41 7.96l-1.37-1.37c-.4-.4-.92-.59-1.43-.59-.52 0-1.04.2-1.43.59L10.3 9.45l-7.72 7.72c-.78.78-.78 2.05 0 2.83L4 21.41c.39.39.9.59 1.41.59.51 0 1.02-.2 1.41-.59l7.78-7.78 2.81-2.81c.8-.78.8-2.07 0-2.86zM5.41 20L4 18.59l7.72-7.72 1.47 1.35L5.41 20z\"/>\n",
              "  </svg>\n",
              "      </button>\n",
              "      \n",
              "  <style>\n",
              "    .colab-df-container {\n",
              "      display:flex;\n",
              "      flex-wrap:wrap;\n",
              "      gap: 12px;\n",
              "    }\n",
              "\n",
              "    .colab-df-convert {\n",
              "      background-color: #E8F0FE;\n",
              "      border: none;\n",
              "      border-radius: 50%;\n",
              "      cursor: pointer;\n",
              "      display: none;\n",
              "      fill: #1967D2;\n",
              "      height: 32px;\n",
              "      padding: 0 0 0 0;\n",
              "      width: 32px;\n",
              "    }\n",
              "\n",
              "    .colab-df-convert:hover {\n",
              "      background-color: #E2EBFA;\n",
              "      box-shadow: 0px 1px 2px rgba(60, 64, 67, 0.3), 0px 1px 3px 1px rgba(60, 64, 67, 0.15);\n",
              "      fill: #174EA6;\n",
              "    }\n",
              "\n",
              "    [theme=dark] .colab-df-convert {\n",
              "      background-color: #3B4455;\n",
              "      fill: #D2E3FC;\n",
              "    }\n",
              "\n",
              "    [theme=dark] .colab-df-convert:hover {\n",
              "      background-color: #434B5C;\n",
              "      box-shadow: 0px 1px 3px 1px rgba(0, 0, 0, 0.15);\n",
              "      filter: drop-shadow(0px 1px 2px rgba(0, 0, 0, 0.3));\n",
              "      fill: #FFFFFF;\n",
              "    }\n",
              "  </style>\n",
              "\n",
              "      <script>\n",
              "        const buttonEl =\n",
              "          document.querySelector('#df-276db77f-bdc2-4654-b8b6-2dd504454d33 button.colab-df-convert');\n",
              "        buttonEl.style.display =\n",
              "          google.colab.kernel.accessAllowed ? 'block' : 'none';\n",
              "\n",
              "        async function convertToInteractive(key) {\n",
              "          const element = document.querySelector('#df-276db77f-bdc2-4654-b8b6-2dd504454d33');\n",
              "          const dataTable =\n",
              "            await google.colab.kernel.invokeFunction('convertToInteractive',\n",
              "                                                     [key], {});\n",
              "          if (!dataTable) return;\n",
              "\n",
              "          const docLinkHtml = 'Like what you see? Visit the ' +\n",
              "            '<a target=\"_blank\" href=https://colab.research.google.com/notebooks/data_table.ipynb>data table notebook</a>'\n",
              "            + ' to learn more about interactive tables.';\n",
              "          element.innerHTML = '';\n",
              "          dataTable['output_type'] = 'display_data';\n",
              "          await google.colab.output.renderOutput(dataTable, element);\n",
              "          const docLink = document.createElement('div');\n",
              "          docLink.innerHTML = docLinkHtml;\n",
              "          element.appendChild(docLink);\n",
              "        }\n",
              "      </script>\n",
              "    </div>\n",
              "  </div>\n",
              "  "
            ]
          },
          "metadata": {},
          "execution_count": 5
        }
      ]
    },
    {
      "cell_type": "code",
      "source": [
        "print(f\"Number of places in the datasets : {len(all_data.id.unique())}\")"
      ],
      "metadata": {
        "colab": {
          "base_uri": "https://localhost:8080/"
        },
        "id": "0yA_NPVFzgVC",
        "outputId": "f20e26e6-f55b-4db5-e1a2-977f47fae7df"
      },
      "execution_count": 6,
      "outputs": [
        {
          "output_type": "stream",
          "name": "stdout",
          "text": [
            "Number of places in the datasets : 515\n"
          ]
        }
      ]
    },
    {
      "cell_type": "markdown",
      "source": [
        "# Exploratory Data Analysis\n",
        "In this section, we analysis the data that we get"
      ],
      "metadata": {
        "id": "PCRZs-KEz7PP"
      }
    },
    {
      "cell_type": "code",
      "source": [
        "# check info of dataset such as how many column and what is the type\n",
        "all_data.info()"
      ],
      "metadata": {
        "colab": {
          "base_uri": "https://localhost:8080/"
        },
        "id": "4j6-tKa80IQo",
        "outputId": "1d2425c4-5267-427a-db20-8aadc3afe6ef"
      },
      "execution_count": 7,
      "outputs": [
        {
          "output_type": "stream",
          "name": "stdout",
          "text": [
            "<class 'pandas.core.frame.DataFrame'>\n",
            "RangeIndex: 515 entries, 0 to 514\n",
            "Data columns (total 8 columns):\n",
            " #   Column       Non-Null Count  Dtype  \n",
            "---  ------       --------------  -----  \n",
            " 0   id           515 non-null    int64  \n",
            " 1   nama_tempat  515 non-null    object \n",
            " 2   kategori     515 non-null    object \n",
            " 3   kota         515 non-null    object \n",
            " 4   alamat       515 non-null    object \n",
            " 5   deskripsi    514 non-null    object \n",
            " 6   lat          515 non-null    float64\n",
            " 7   long         515 non-null    float64\n",
            "dtypes: float64(2), int64(1), object(5)\n",
            "memory usage: 32.3+ KB\n"
          ]
        }
      ]
    },
    {
      "cell_type": "code",
      "source": [
        "# check if there is null\n",
        "all_data.isnull().sum()"
      ],
      "metadata": {
        "colab": {
          "base_uri": "https://localhost:8080/"
        },
        "id": "h0HQoxu80foM",
        "outputId": "36670bf6-1665-46cc-f266-3eb41f524791"
      },
      "execution_count": 8,
      "outputs": [
        {
          "output_type": "execute_result",
          "data": {
            "text/plain": [
              "id             0\n",
              "nama_tempat    0\n",
              "kategori       0\n",
              "kota           0\n",
              "alamat         0\n",
              "deskripsi      1\n",
              "lat            0\n",
              "long           0\n",
              "dtype: int64"
            ]
          },
          "metadata": {},
          "execution_count": 8
        }
      ]
    },
    {
      "cell_type": "code",
      "source": [
        "# drop the null data\n",
        "all_data = all_data.dropna(subset=['deskripsi'])"
      ],
      "metadata": {
        "id": "xUaL6te6HBPk"
      },
      "execution_count": 9,
      "outputs": []
    },
    {
      "cell_type": "code",
      "source": [
        "# check the data unique of column 'Kategori'\n",
        "all_data.kategori.unique()"
      ],
      "metadata": {
        "colab": {
          "base_uri": "https://localhost:8080/"
        },
        "id": "qDA13-Xy0sdO",
        "outputId": "76493c0b-ecfa-4c49-d5dc-f2e1f9b93c7b"
      },
      "execution_count": 10,
      "outputs": [
        {
          "output_type": "execute_result",
          "data": {
            "text/plain": [
              "array(['Taman Hiburan', 'Budaya', 'Alam', 'Tempat Ibadah', 'Kuliner',\n",
              "       'Bahari', 'Pusat Perbelanjaan'], dtype=object)"
            ]
          },
          "metadata": {},
          "execution_count": 10
        }
      ]
    },
    {
      "cell_type": "markdown",
      "source": [
        "# Data Preprocessing\n",
        "Clean and preprocess the collected data to prepare it for further analysis. This may involve removing duplicates, handling missing values, normalizing text, and feature engineering."
      ],
      "metadata": {
        "id": "Hme5ICI504Gq"
      }
    },
    {
      "cell_type": "code",
      "source": [
        "# see an overview of the data\n",
        "all_data.head()"
      ],
      "metadata": {
        "colab": {
          "base_uri": "https://localhost:8080/",
          "height": 337
        },
        "id": "X6v0kIwK1gJM",
        "outputId": "37c565ca-f346-490f-f56e-4b691b3df71d"
      },
      "execution_count": 11,
      "outputs": [
        {
          "output_type": "execute_result",
          "data": {
            "text/plain": [
              "   id              nama_tempat       kategori     kota  \\\n",
              "0   1     Trans Studio Bandung  Taman Hiburan  Bandung   \n",
              "1   2  Farm House Susu Lembang  Taman Hiburan  Bandung   \n",
              "2   3              Dusun Bambu  Taman Hiburan  Bandung   \n",
              "3   4   Kebun Binatang Bandung  Taman Hiburan  Bandung   \n",
              "4   5           Dago Dreampark  Taman Hiburan  Bandung   \n",
              "\n",
              "                                              alamat  \\\n",
              "0  Jl. Gatot Subroto No.289A, Cibangkong, Kec. Ba...   \n",
              "1  Jl. Raya Lembang No.108, Gudangkahuripan, Kec....   \n",
              "2  Jl. Kolonel Masturi No.KM. 11, Kertawangi, Kec...   \n",
              "3  Jl. Kebun Binatang No.6, Lb. Siliwangi, Kecama...   \n",
              "4  Jl. Dago Giri No.Km. 2.2, Pagerwangi, Kec. Lem...   \n",
              "\n",
              "                                           deskripsi       lat        long  \n",
              "0  Trans Studio Bandung adalah sebuah kompleks ta... -6.925094  107.636494  \n",
              "1  Farm House Susu Lembang adalah destinasi yang ... -6.832969  107.605618  \n",
              "2  Dusun Bambu adalah destinasi wisata yang menaw... -6.789715  107.579163  \n",
              "3  Kebun Binatang Bandung, juga dikenal sebagai K... -6.889718  107.607728  \n",
              "4  Dago Dreampark adalah kompleks rekreasi yang t... -6.848642  107.625939  "
            ],
            "text/html": [
              "\n",
              "  <div id=\"df-358c1c2c-dc70-49d2-97c6-4342bb185e45\">\n",
              "    <div class=\"colab-df-container\">\n",
              "      <div>\n",
              "<style scoped>\n",
              "    .dataframe tbody tr th:only-of-type {\n",
              "        vertical-align: middle;\n",
              "    }\n",
              "\n",
              "    .dataframe tbody tr th {\n",
              "        vertical-align: top;\n",
              "    }\n",
              "\n",
              "    .dataframe thead th {\n",
              "        text-align: right;\n",
              "    }\n",
              "</style>\n",
              "<table border=\"1\" class=\"dataframe\">\n",
              "  <thead>\n",
              "    <tr style=\"text-align: right;\">\n",
              "      <th></th>\n",
              "      <th>id</th>\n",
              "      <th>nama_tempat</th>\n",
              "      <th>kategori</th>\n",
              "      <th>kota</th>\n",
              "      <th>alamat</th>\n",
              "      <th>deskripsi</th>\n",
              "      <th>lat</th>\n",
              "      <th>long</th>\n",
              "    </tr>\n",
              "  </thead>\n",
              "  <tbody>\n",
              "    <tr>\n",
              "      <th>0</th>\n",
              "      <td>1</td>\n",
              "      <td>Trans Studio Bandung</td>\n",
              "      <td>Taman Hiburan</td>\n",
              "      <td>Bandung</td>\n",
              "      <td>Jl. Gatot Subroto No.289A, Cibangkong, Kec. Ba...</td>\n",
              "      <td>Trans Studio Bandung adalah sebuah kompleks ta...</td>\n",
              "      <td>-6.925094</td>\n",
              "      <td>107.636494</td>\n",
              "    </tr>\n",
              "    <tr>\n",
              "      <th>1</th>\n",
              "      <td>2</td>\n",
              "      <td>Farm House Susu Lembang</td>\n",
              "      <td>Taman Hiburan</td>\n",
              "      <td>Bandung</td>\n",
              "      <td>Jl. Raya Lembang No.108, Gudangkahuripan, Kec....</td>\n",
              "      <td>Farm House Susu Lembang adalah destinasi yang ...</td>\n",
              "      <td>-6.832969</td>\n",
              "      <td>107.605618</td>\n",
              "    </tr>\n",
              "    <tr>\n",
              "      <th>2</th>\n",
              "      <td>3</td>\n",
              "      <td>Dusun Bambu</td>\n",
              "      <td>Taman Hiburan</td>\n",
              "      <td>Bandung</td>\n",
              "      <td>Jl. Kolonel Masturi No.KM. 11, Kertawangi, Kec...</td>\n",
              "      <td>Dusun Bambu adalah destinasi wisata yang menaw...</td>\n",
              "      <td>-6.789715</td>\n",
              "      <td>107.579163</td>\n",
              "    </tr>\n",
              "    <tr>\n",
              "      <th>3</th>\n",
              "      <td>4</td>\n",
              "      <td>Kebun Binatang Bandung</td>\n",
              "      <td>Taman Hiburan</td>\n",
              "      <td>Bandung</td>\n",
              "      <td>Jl. Kebun Binatang No.6, Lb. Siliwangi, Kecama...</td>\n",
              "      <td>Kebun Binatang Bandung, juga dikenal sebagai K...</td>\n",
              "      <td>-6.889718</td>\n",
              "      <td>107.607728</td>\n",
              "    </tr>\n",
              "    <tr>\n",
              "      <th>4</th>\n",
              "      <td>5</td>\n",
              "      <td>Dago Dreampark</td>\n",
              "      <td>Taman Hiburan</td>\n",
              "      <td>Bandung</td>\n",
              "      <td>Jl. Dago Giri No.Km. 2.2, Pagerwangi, Kec. Lem...</td>\n",
              "      <td>Dago Dreampark adalah kompleks rekreasi yang t...</td>\n",
              "      <td>-6.848642</td>\n",
              "      <td>107.625939</td>\n",
              "    </tr>\n",
              "  </tbody>\n",
              "</table>\n",
              "</div>\n",
              "      <button class=\"colab-df-convert\" onclick=\"convertToInteractive('df-358c1c2c-dc70-49d2-97c6-4342bb185e45')\"\n",
              "              title=\"Convert this dataframe to an interactive table.\"\n",
              "              style=\"display:none;\">\n",
              "        \n",
              "  <svg xmlns=\"http://www.w3.org/2000/svg\" height=\"24px\"viewBox=\"0 0 24 24\"\n",
              "       width=\"24px\">\n",
              "    <path d=\"M0 0h24v24H0V0z\" fill=\"none\"/>\n",
              "    <path d=\"M18.56 5.44l.94 2.06.94-2.06 2.06-.94-2.06-.94-.94-2.06-.94 2.06-2.06.94zm-11 1L8.5 8.5l.94-2.06 2.06-.94-2.06-.94L8.5 2.5l-.94 2.06-2.06.94zm10 10l.94 2.06.94-2.06 2.06-.94-2.06-.94-.94-2.06-.94 2.06-2.06.94z\"/><path d=\"M17.41 7.96l-1.37-1.37c-.4-.4-.92-.59-1.43-.59-.52 0-1.04.2-1.43.59L10.3 9.45l-7.72 7.72c-.78.78-.78 2.05 0 2.83L4 21.41c.39.39.9.59 1.41.59.51 0 1.02-.2 1.41-.59l7.78-7.78 2.81-2.81c.8-.78.8-2.07 0-2.86zM5.41 20L4 18.59l7.72-7.72 1.47 1.35L5.41 20z\"/>\n",
              "  </svg>\n",
              "      </button>\n",
              "      \n",
              "  <style>\n",
              "    .colab-df-container {\n",
              "      display:flex;\n",
              "      flex-wrap:wrap;\n",
              "      gap: 12px;\n",
              "    }\n",
              "\n",
              "    .colab-df-convert {\n",
              "      background-color: #E8F0FE;\n",
              "      border: none;\n",
              "      border-radius: 50%;\n",
              "      cursor: pointer;\n",
              "      display: none;\n",
              "      fill: #1967D2;\n",
              "      height: 32px;\n",
              "      padding: 0 0 0 0;\n",
              "      width: 32px;\n",
              "    }\n",
              "\n",
              "    .colab-df-convert:hover {\n",
              "      background-color: #E2EBFA;\n",
              "      box-shadow: 0px 1px 2px rgba(60, 64, 67, 0.3), 0px 1px 3px 1px rgba(60, 64, 67, 0.15);\n",
              "      fill: #174EA6;\n",
              "    }\n",
              "\n",
              "    [theme=dark] .colab-df-convert {\n",
              "      background-color: #3B4455;\n",
              "      fill: #D2E3FC;\n",
              "    }\n",
              "\n",
              "    [theme=dark] .colab-df-convert:hover {\n",
              "      background-color: #434B5C;\n",
              "      box-shadow: 0px 1px 3px 1px rgba(0, 0, 0, 0.15);\n",
              "      filter: drop-shadow(0px 1px 2px rgba(0, 0, 0, 0.3));\n",
              "      fill: #FFFFFF;\n",
              "    }\n",
              "  </style>\n",
              "\n",
              "      <script>\n",
              "        const buttonEl =\n",
              "          document.querySelector('#df-358c1c2c-dc70-49d2-97c6-4342bb185e45 button.colab-df-convert');\n",
              "        buttonEl.style.display =\n",
              "          google.colab.kernel.accessAllowed ? 'block' : 'none';\n",
              "\n",
              "        async function convertToInteractive(key) {\n",
              "          const element = document.querySelector('#df-358c1c2c-dc70-49d2-97c6-4342bb185e45');\n",
              "          const dataTable =\n",
              "            await google.colab.kernel.invokeFunction('convertToInteractive',\n",
              "                                                     [key], {});\n",
              "          if (!dataTable) return;\n",
              "\n",
              "          const docLinkHtml = 'Like what you see? Visit the ' +\n",
              "            '<a target=\"_blank\" href=https://colab.research.google.com/notebooks/data_table.ipynb>data table notebook</a>'\n",
              "            + ' to learn more about interactive tables.';\n",
              "          element.innerHTML = '';\n",
              "          dataTable['output_type'] = 'display_data';\n",
              "          await google.colab.output.renderOutput(dataTable, element);\n",
              "          const docLink = document.createElement('div');\n",
              "          docLink.innerHTML = docLinkHtml;\n",
              "          element.appendChild(docLink);\n",
              "        }\n",
              "      </script>\n",
              "    </div>\n",
              "  </div>\n",
              "  "
            ]
          },
          "metadata": {},
          "execution_count": 11
        }
      ]
    },
    {
      "cell_type": "code",
      "source": [
        "# make just column 'id', 'nama_tempat', 'kategori', 'kota', 'deskripsi'\n",
        "# so drop the column 'alamat', 'lat', 'long'\n",
        "all_data.drop(['alamat', 'lat', 'long'], axis=1, inplace=True)\n",
        "all_data"
      ],
      "metadata": {
        "colab": {
          "base_uri": "https://localhost:8080/",
          "height": 423
        },
        "id": "9y8SxqIQI6q_",
        "outputId": "3c053215-c46f-4b58-a7c4-44b331d1559f"
      },
      "execution_count": 12,
      "outputs": [
        {
          "output_type": "execute_result",
          "data": {
            "text/plain": [
              "      id                nama_tempat       kategori      kota  \\\n",
              "0      1       Trans Studio Bandung  Taman Hiburan   Bandung   \n",
              "1      2    Farm House Susu Lembang  Taman Hiburan   Bandung   \n",
              "2      3                Dusun Bambu  Taman Hiburan   Bandung   \n",
              "3      4     Kebun Binatang Bandung  Taman Hiburan   Bandung   \n",
              "4      5             Dago Dreampark  Taman Hiburan   Bandung   \n",
              "..   ...                        ...            ...       ...   \n",
              "510  511       Klenteng Pak Kik Bio  Tempat Ibadah  Surabaya   \n",
              "511  512     Klenteng Sanggar Agung  Tempat Ibadah  Surabaya   \n",
              "512  513   Masjid Agung Sunan Ampel  Tempat Ibadah  Surabaya   \n",
              "513  514  Masjid Muhammad Cheng Hoo  Tempat Ibadah  Surabaya   \n",
              "514  515   Masjid Nasional Al-Akbar  Tempat Ibadah  Surabaya   \n",
              "\n",
              "                                             deskripsi  \n",
              "0    Trans Studio Bandung adalah sebuah kompleks ta...  \n",
              "1    Farm House Susu Lembang adalah destinasi yang ...  \n",
              "2    Dusun Bambu adalah destinasi wisata yang menaw...  \n",
              "3    Kebun Binatang Bandung, juga dikenal sebagai K...  \n",
              "4    Dago Dreampark adalah kompleks rekreasi yang t...  \n",
              "..                                                 ...  \n",
              "510  Kelenteng Pak KIk Bio adalah sebuah kelenteng ...  \n",
              "511  Kelenteng Sanggar Agung atau Klenteng Hong San...  \n",
              "512  Masjid Agung Sunan Ampel adalah sebuah masjid ...  \n",
              "513  Masjid Cheng Hoo Surabaya adalah Masjid bernua...  \n",
              "514  Masjid Nasional Al Akbar (atau biasa disebut M...  \n",
              "\n",
              "[514 rows x 5 columns]"
            ],
            "text/html": [
              "\n",
              "  <div id=\"df-e6a97d83-bedd-46a3-a553-f65ba134a744\">\n",
              "    <div class=\"colab-df-container\">\n",
              "      <div>\n",
              "<style scoped>\n",
              "    .dataframe tbody tr th:only-of-type {\n",
              "        vertical-align: middle;\n",
              "    }\n",
              "\n",
              "    .dataframe tbody tr th {\n",
              "        vertical-align: top;\n",
              "    }\n",
              "\n",
              "    .dataframe thead th {\n",
              "        text-align: right;\n",
              "    }\n",
              "</style>\n",
              "<table border=\"1\" class=\"dataframe\">\n",
              "  <thead>\n",
              "    <tr style=\"text-align: right;\">\n",
              "      <th></th>\n",
              "      <th>id</th>\n",
              "      <th>nama_tempat</th>\n",
              "      <th>kategori</th>\n",
              "      <th>kota</th>\n",
              "      <th>deskripsi</th>\n",
              "    </tr>\n",
              "  </thead>\n",
              "  <tbody>\n",
              "    <tr>\n",
              "      <th>0</th>\n",
              "      <td>1</td>\n",
              "      <td>Trans Studio Bandung</td>\n",
              "      <td>Taman Hiburan</td>\n",
              "      <td>Bandung</td>\n",
              "      <td>Trans Studio Bandung adalah sebuah kompleks ta...</td>\n",
              "    </tr>\n",
              "    <tr>\n",
              "      <th>1</th>\n",
              "      <td>2</td>\n",
              "      <td>Farm House Susu Lembang</td>\n",
              "      <td>Taman Hiburan</td>\n",
              "      <td>Bandung</td>\n",
              "      <td>Farm House Susu Lembang adalah destinasi yang ...</td>\n",
              "    </tr>\n",
              "    <tr>\n",
              "      <th>2</th>\n",
              "      <td>3</td>\n",
              "      <td>Dusun Bambu</td>\n",
              "      <td>Taman Hiburan</td>\n",
              "      <td>Bandung</td>\n",
              "      <td>Dusun Bambu adalah destinasi wisata yang menaw...</td>\n",
              "    </tr>\n",
              "    <tr>\n",
              "      <th>3</th>\n",
              "      <td>4</td>\n",
              "      <td>Kebun Binatang Bandung</td>\n",
              "      <td>Taman Hiburan</td>\n",
              "      <td>Bandung</td>\n",
              "      <td>Kebun Binatang Bandung, juga dikenal sebagai K...</td>\n",
              "    </tr>\n",
              "    <tr>\n",
              "      <th>4</th>\n",
              "      <td>5</td>\n",
              "      <td>Dago Dreampark</td>\n",
              "      <td>Taman Hiburan</td>\n",
              "      <td>Bandung</td>\n",
              "      <td>Dago Dreampark adalah kompleks rekreasi yang t...</td>\n",
              "    </tr>\n",
              "    <tr>\n",
              "      <th>...</th>\n",
              "      <td>...</td>\n",
              "      <td>...</td>\n",
              "      <td>...</td>\n",
              "      <td>...</td>\n",
              "      <td>...</td>\n",
              "    </tr>\n",
              "    <tr>\n",
              "      <th>510</th>\n",
              "      <td>511</td>\n",
              "      <td>Klenteng Pak Kik Bio</td>\n",
              "      <td>Tempat Ibadah</td>\n",
              "      <td>Surabaya</td>\n",
              "      <td>Kelenteng Pak KIk Bio adalah sebuah kelenteng ...</td>\n",
              "    </tr>\n",
              "    <tr>\n",
              "      <th>511</th>\n",
              "      <td>512</td>\n",
              "      <td>Klenteng Sanggar Agung</td>\n",
              "      <td>Tempat Ibadah</td>\n",
              "      <td>Surabaya</td>\n",
              "      <td>Kelenteng Sanggar Agung atau Klenteng Hong San...</td>\n",
              "    </tr>\n",
              "    <tr>\n",
              "      <th>512</th>\n",
              "      <td>513</td>\n",
              "      <td>Masjid Agung Sunan Ampel</td>\n",
              "      <td>Tempat Ibadah</td>\n",
              "      <td>Surabaya</td>\n",
              "      <td>Masjid Agung Sunan Ampel adalah sebuah masjid ...</td>\n",
              "    </tr>\n",
              "    <tr>\n",
              "      <th>513</th>\n",
              "      <td>514</td>\n",
              "      <td>Masjid Muhammad Cheng Hoo</td>\n",
              "      <td>Tempat Ibadah</td>\n",
              "      <td>Surabaya</td>\n",
              "      <td>Masjid Cheng Hoo Surabaya adalah Masjid bernua...</td>\n",
              "    </tr>\n",
              "    <tr>\n",
              "      <th>514</th>\n",
              "      <td>515</td>\n",
              "      <td>Masjid Nasional Al-Akbar</td>\n",
              "      <td>Tempat Ibadah</td>\n",
              "      <td>Surabaya</td>\n",
              "      <td>Masjid Nasional Al Akbar (atau biasa disebut M...</td>\n",
              "    </tr>\n",
              "  </tbody>\n",
              "</table>\n",
              "<p>514 rows × 5 columns</p>\n",
              "</div>\n",
              "      <button class=\"colab-df-convert\" onclick=\"convertToInteractive('df-e6a97d83-bedd-46a3-a553-f65ba134a744')\"\n",
              "              title=\"Convert this dataframe to an interactive table.\"\n",
              "              style=\"display:none;\">\n",
              "        \n",
              "  <svg xmlns=\"http://www.w3.org/2000/svg\" height=\"24px\"viewBox=\"0 0 24 24\"\n",
              "       width=\"24px\">\n",
              "    <path d=\"M0 0h24v24H0V0z\" fill=\"none\"/>\n",
              "    <path d=\"M18.56 5.44l.94 2.06.94-2.06 2.06-.94-2.06-.94-.94-2.06-.94 2.06-2.06.94zm-11 1L8.5 8.5l.94-2.06 2.06-.94-2.06-.94L8.5 2.5l-.94 2.06-2.06.94zm10 10l.94 2.06.94-2.06 2.06-.94-2.06-.94-.94-2.06-.94 2.06-2.06.94z\"/><path d=\"M17.41 7.96l-1.37-1.37c-.4-.4-.92-.59-1.43-.59-.52 0-1.04.2-1.43.59L10.3 9.45l-7.72 7.72c-.78.78-.78 2.05 0 2.83L4 21.41c.39.39.9.59 1.41.59.51 0 1.02-.2 1.41-.59l7.78-7.78 2.81-2.81c.8-.78.8-2.07 0-2.86zM5.41 20L4 18.59l7.72-7.72 1.47 1.35L5.41 20z\"/>\n",
              "  </svg>\n",
              "      </button>\n",
              "      \n",
              "  <style>\n",
              "    .colab-df-container {\n",
              "      display:flex;\n",
              "      flex-wrap:wrap;\n",
              "      gap: 12px;\n",
              "    }\n",
              "\n",
              "    .colab-df-convert {\n",
              "      background-color: #E8F0FE;\n",
              "      border: none;\n",
              "      border-radius: 50%;\n",
              "      cursor: pointer;\n",
              "      display: none;\n",
              "      fill: #1967D2;\n",
              "      height: 32px;\n",
              "      padding: 0 0 0 0;\n",
              "      width: 32px;\n",
              "    }\n",
              "\n",
              "    .colab-df-convert:hover {\n",
              "      background-color: #E2EBFA;\n",
              "      box-shadow: 0px 1px 2px rgba(60, 64, 67, 0.3), 0px 1px 3px 1px rgba(60, 64, 67, 0.15);\n",
              "      fill: #174EA6;\n",
              "    }\n",
              "\n",
              "    [theme=dark] .colab-df-convert {\n",
              "      background-color: #3B4455;\n",
              "      fill: #D2E3FC;\n",
              "    }\n",
              "\n",
              "    [theme=dark] .colab-df-convert:hover {\n",
              "      background-color: #434B5C;\n",
              "      box-shadow: 0px 1px 3px 1px rgba(0, 0, 0, 0.15);\n",
              "      filter: drop-shadow(0px 1px 2px rgba(0, 0, 0, 0.3));\n",
              "      fill: #FFFFFF;\n",
              "    }\n",
              "  </style>\n",
              "\n",
              "      <script>\n",
              "        const buttonEl =\n",
              "          document.querySelector('#df-e6a97d83-bedd-46a3-a553-f65ba134a744 button.colab-df-convert');\n",
              "        buttonEl.style.display =\n",
              "          google.colab.kernel.accessAllowed ? 'block' : 'none';\n",
              "\n",
              "        async function convertToInteractive(key) {\n",
              "          const element = document.querySelector('#df-e6a97d83-bedd-46a3-a553-f65ba134a744');\n",
              "          const dataTable =\n",
              "            await google.colab.kernel.invokeFunction('convertToInteractive',\n",
              "                                                     [key], {});\n",
              "          if (!dataTable) return;\n",
              "\n",
              "          const docLinkHtml = 'Like what you see? Visit the ' +\n",
              "            '<a target=\"_blank\" href=https://colab.research.google.com/notebooks/data_table.ipynb>data table notebook</a>'\n",
              "            + ' to learn more about interactive tables.';\n",
              "          element.innerHTML = '';\n",
              "          dataTable['output_type'] = 'display_data';\n",
              "          await google.colab.output.renderOutput(dataTable, element);\n",
              "          const docLink = document.createElement('div');\n",
              "          docLink.innerHTML = docLinkHtml;\n",
              "          element.appendChild(docLink);\n",
              "        }\n",
              "      </script>\n",
              "    </div>\n",
              "  </div>\n",
              "  "
            ]
          },
          "metadata": {},
          "execution_count": 12
        }
      ]
    },
    {
      "cell_type": "code",
      "source": [
        "# optional, if the text code in above cannot run\n",
        "# make just column 'id', 'nama_tempat', 'kategori', 'deskripsi, 'kota'\n",
        "# new_data = all_data.drop('alamat', axis=1)\n",
        "# new_data"
      ],
      "metadata": {
        "id": "O8sLwa_Q4b7q"
      },
      "execution_count": null,
      "outputs": []
    },
    {
      "cell_type": "code",
      "source": [
        "# new_data.info()\n",
        "# Define columns with float type, which is lat and long\n",
        "# float_cols = new_data.select_dtypes(include=['float']).columns\n",
        "\n",
        "# Delete columns with float type\n",
        "# new_data = new_data.drop(columns=float_cols)"
      ],
      "metadata": {
        "id": "yucEekgPCGPm"
      },
      "execution_count": null,
      "outputs": []
    },
    {
      "cell_type": "markdown",
      "source": [
        "# Content Based Filtering\n",
        "technique used in recommender systems to recommend items or content to users based on the characteristics or properties of the items themselves.\n",
        "\n",
        "*make a modelling data using content-based filtering technique*"
      ],
      "metadata": {
        "id": "HcWQXTUm62N-"
      }
    },
    {
      "cell_type": "code",
      "source": [
        "# Modelling with content based filtering\n",
        "def preprocessing(data):\n",
        "    data = str(data).lower()\n",
        "    data = stem.stem(data)\n",
        "    data = stopword.remove(data)\n",
        "    return data"
      ],
      "metadata": {
        "id": "uKalA43d61D2"
      },
      "execution_count": 13,
      "outputs": []
    },
    {
      "cell_type": "code",
      "source": [
        "# make a copy of \"all_data\" that retrieve column 'id', 'nama_tempat', 'tags' -> merge of 'deskripsi' and 'kategori'\n",
        "data_content_based_filtering = all_data.copy()\n",
        "data_content_based_filtering['tags'] = data_content_based_filtering['deskripsi'] + ' ' + data_content_based_filtering['kota']\n",
        "data_content_based_filtering.drop(['kota', 'kategori', 'deskripsi'], axis=1, inplace=True)\n",
        "data_content_based_filtering"
      ],
      "metadata": {
        "colab": {
          "base_uri": "https://localhost:8080/",
          "height": 423
        },
        "id": "hVHzu5JhKagt",
        "outputId": "a37e2313-07da-4f07-9dfa-2a0960d31e73"
      },
      "execution_count": 14,
      "outputs": [
        {
          "output_type": "execute_result",
          "data": {
            "text/plain": [
              "      id                nama_tempat  \\\n",
              "0      1       Trans Studio Bandung   \n",
              "1      2    Farm House Susu Lembang   \n",
              "2      3                Dusun Bambu   \n",
              "3      4     Kebun Binatang Bandung   \n",
              "4      5             Dago Dreampark   \n",
              "..   ...                        ...   \n",
              "510  511       Klenteng Pak Kik Bio   \n",
              "511  512     Klenteng Sanggar Agung   \n",
              "512  513   Masjid Agung Sunan Ampel   \n",
              "513  514  Masjid Muhammad Cheng Hoo   \n",
              "514  515   Masjid Nasional Al-Akbar   \n",
              "\n",
              "                                                  tags  \n",
              "0    Trans Studio Bandung adalah sebuah kompleks ta...  \n",
              "1    Farm House Susu Lembang adalah destinasi yang ...  \n",
              "2    Dusun Bambu adalah destinasi wisata yang menaw...  \n",
              "3    Kebun Binatang Bandung, juga dikenal sebagai K...  \n",
              "4    Dago Dreampark adalah kompleks rekreasi yang t...  \n",
              "..                                                 ...  \n",
              "510  Kelenteng Pak KIk Bio adalah sebuah kelenteng ...  \n",
              "511  Kelenteng Sanggar Agung atau Klenteng Hong San...  \n",
              "512  Masjid Agung Sunan Ampel adalah sebuah masjid ...  \n",
              "513  Masjid Cheng Hoo Surabaya adalah Masjid bernua...  \n",
              "514  Masjid Nasional Al Akbar (atau biasa disebut M...  \n",
              "\n",
              "[514 rows x 3 columns]"
            ],
            "text/html": [
              "\n",
              "  <div id=\"df-a054b0b9-19b1-4a51-b983-dcb75e8326d5\">\n",
              "    <div class=\"colab-df-container\">\n",
              "      <div>\n",
              "<style scoped>\n",
              "    .dataframe tbody tr th:only-of-type {\n",
              "        vertical-align: middle;\n",
              "    }\n",
              "\n",
              "    .dataframe tbody tr th {\n",
              "        vertical-align: top;\n",
              "    }\n",
              "\n",
              "    .dataframe thead th {\n",
              "        text-align: right;\n",
              "    }\n",
              "</style>\n",
              "<table border=\"1\" class=\"dataframe\">\n",
              "  <thead>\n",
              "    <tr style=\"text-align: right;\">\n",
              "      <th></th>\n",
              "      <th>id</th>\n",
              "      <th>nama_tempat</th>\n",
              "      <th>tags</th>\n",
              "    </tr>\n",
              "  </thead>\n",
              "  <tbody>\n",
              "    <tr>\n",
              "      <th>0</th>\n",
              "      <td>1</td>\n",
              "      <td>Trans Studio Bandung</td>\n",
              "      <td>Trans Studio Bandung adalah sebuah kompleks ta...</td>\n",
              "    </tr>\n",
              "    <tr>\n",
              "      <th>1</th>\n",
              "      <td>2</td>\n",
              "      <td>Farm House Susu Lembang</td>\n",
              "      <td>Farm House Susu Lembang adalah destinasi yang ...</td>\n",
              "    </tr>\n",
              "    <tr>\n",
              "      <th>2</th>\n",
              "      <td>3</td>\n",
              "      <td>Dusun Bambu</td>\n",
              "      <td>Dusun Bambu adalah destinasi wisata yang menaw...</td>\n",
              "    </tr>\n",
              "    <tr>\n",
              "      <th>3</th>\n",
              "      <td>4</td>\n",
              "      <td>Kebun Binatang Bandung</td>\n",
              "      <td>Kebun Binatang Bandung, juga dikenal sebagai K...</td>\n",
              "    </tr>\n",
              "    <tr>\n",
              "      <th>4</th>\n",
              "      <td>5</td>\n",
              "      <td>Dago Dreampark</td>\n",
              "      <td>Dago Dreampark adalah kompleks rekreasi yang t...</td>\n",
              "    </tr>\n",
              "    <tr>\n",
              "      <th>...</th>\n",
              "      <td>...</td>\n",
              "      <td>...</td>\n",
              "      <td>...</td>\n",
              "    </tr>\n",
              "    <tr>\n",
              "      <th>510</th>\n",
              "      <td>511</td>\n",
              "      <td>Klenteng Pak Kik Bio</td>\n",
              "      <td>Kelenteng Pak KIk Bio adalah sebuah kelenteng ...</td>\n",
              "    </tr>\n",
              "    <tr>\n",
              "      <th>511</th>\n",
              "      <td>512</td>\n",
              "      <td>Klenteng Sanggar Agung</td>\n",
              "      <td>Kelenteng Sanggar Agung atau Klenteng Hong San...</td>\n",
              "    </tr>\n",
              "    <tr>\n",
              "      <th>512</th>\n",
              "      <td>513</td>\n",
              "      <td>Masjid Agung Sunan Ampel</td>\n",
              "      <td>Masjid Agung Sunan Ampel adalah sebuah masjid ...</td>\n",
              "    </tr>\n",
              "    <tr>\n",
              "      <th>513</th>\n",
              "      <td>514</td>\n",
              "      <td>Masjid Muhammad Cheng Hoo</td>\n",
              "      <td>Masjid Cheng Hoo Surabaya adalah Masjid bernua...</td>\n",
              "    </tr>\n",
              "    <tr>\n",
              "      <th>514</th>\n",
              "      <td>515</td>\n",
              "      <td>Masjid Nasional Al-Akbar</td>\n",
              "      <td>Masjid Nasional Al Akbar (atau biasa disebut M...</td>\n",
              "    </tr>\n",
              "  </tbody>\n",
              "</table>\n",
              "<p>514 rows × 3 columns</p>\n",
              "</div>\n",
              "      <button class=\"colab-df-convert\" onclick=\"convertToInteractive('df-a054b0b9-19b1-4a51-b983-dcb75e8326d5')\"\n",
              "              title=\"Convert this dataframe to an interactive table.\"\n",
              "              style=\"display:none;\">\n",
              "        \n",
              "  <svg xmlns=\"http://www.w3.org/2000/svg\" height=\"24px\"viewBox=\"0 0 24 24\"\n",
              "       width=\"24px\">\n",
              "    <path d=\"M0 0h24v24H0V0z\" fill=\"none\"/>\n",
              "    <path d=\"M18.56 5.44l.94 2.06.94-2.06 2.06-.94-2.06-.94-.94-2.06-.94 2.06-2.06.94zm-11 1L8.5 8.5l.94-2.06 2.06-.94-2.06-.94L8.5 2.5l-.94 2.06-2.06.94zm10 10l.94 2.06.94-2.06 2.06-.94-2.06-.94-.94-2.06-.94 2.06-2.06.94z\"/><path d=\"M17.41 7.96l-1.37-1.37c-.4-.4-.92-.59-1.43-.59-.52 0-1.04.2-1.43.59L10.3 9.45l-7.72 7.72c-.78.78-.78 2.05 0 2.83L4 21.41c.39.39.9.59 1.41.59.51 0 1.02-.2 1.41-.59l7.78-7.78 2.81-2.81c.8-.78.8-2.07 0-2.86zM5.41 20L4 18.59l7.72-7.72 1.47 1.35L5.41 20z\"/>\n",
              "  </svg>\n",
              "      </button>\n",
              "      \n",
              "  <style>\n",
              "    .colab-df-container {\n",
              "      display:flex;\n",
              "      flex-wrap:wrap;\n",
              "      gap: 12px;\n",
              "    }\n",
              "\n",
              "    .colab-df-convert {\n",
              "      background-color: #E8F0FE;\n",
              "      border: none;\n",
              "      border-radius: 50%;\n",
              "      cursor: pointer;\n",
              "      display: none;\n",
              "      fill: #1967D2;\n",
              "      height: 32px;\n",
              "      padding: 0 0 0 0;\n",
              "      width: 32px;\n",
              "    }\n",
              "\n",
              "    .colab-df-convert:hover {\n",
              "      background-color: #E2EBFA;\n",
              "      box-shadow: 0px 1px 2px rgba(60, 64, 67, 0.3), 0px 1px 3px 1px rgba(60, 64, 67, 0.15);\n",
              "      fill: #174EA6;\n",
              "    }\n",
              "\n",
              "    [theme=dark] .colab-df-convert {\n",
              "      background-color: #3B4455;\n",
              "      fill: #D2E3FC;\n",
              "    }\n",
              "\n",
              "    [theme=dark] .colab-df-convert:hover {\n",
              "      background-color: #434B5C;\n",
              "      box-shadow: 0px 1px 3px 1px rgba(0, 0, 0, 0.15);\n",
              "      filter: drop-shadow(0px 1px 2px rgba(0, 0, 0, 0.3));\n",
              "      fill: #FFFFFF;\n",
              "    }\n",
              "  </style>\n",
              "\n",
              "      <script>\n",
              "        const buttonEl =\n",
              "          document.querySelector('#df-a054b0b9-19b1-4a51-b983-dcb75e8326d5 button.colab-df-convert');\n",
              "        buttonEl.style.display =\n",
              "          google.colab.kernel.accessAllowed ? 'block' : 'none';\n",
              "\n",
              "        async function convertToInteractive(key) {\n",
              "          const element = document.querySelector('#df-a054b0b9-19b1-4a51-b983-dcb75e8326d5');\n",
              "          const dataTable =\n",
              "            await google.colab.kernel.invokeFunction('convertToInteractive',\n",
              "                                                     [key], {});\n",
              "          if (!dataTable) return;\n",
              "\n",
              "          const docLinkHtml = 'Like what you see? Visit the ' +\n",
              "            '<a target=\"_blank\" href=https://colab.research.google.com/notebooks/data_table.ipynb>data table notebook</a>'\n",
              "            + ' to learn more about interactive tables.';\n",
              "          element.innerHTML = '';\n",
              "          dataTable['output_type'] = 'display_data';\n",
              "          await google.colab.output.renderOutput(dataTable, element);\n",
              "          const docLink = document.createElement('div');\n",
              "          docLink.innerHTML = docLinkHtml;\n",
              "          element.appendChild(docLink);\n",
              "        }\n",
              "      </script>\n",
              "    </div>\n",
              "  </div>\n",
              "  "
            ]
          },
          "metadata": {},
          "execution_count": 14
        }
      ]
    },
    {
      "cell_type": "code",
      "source": [
        "data_content_based_filtering.info()"
      ],
      "metadata": {
        "colab": {
          "base_uri": "https://localhost:8080/"
        },
        "id": "N5GCsGbGOcFj",
        "outputId": "8ab28e4c-e17f-4886-d2d8-6b63b1524a71"
      },
      "execution_count": 15,
      "outputs": [
        {
          "output_type": "stream",
          "name": "stdout",
          "text": [
            "<class 'pandas.core.frame.DataFrame'>\n",
            "Int64Index: 514 entries, 0 to 514\n",
            "Data columns (total 3 columns):\n",
            " #   Column       Non-Null Count  Dtype \n",
            "---  ------       --------------  ----- \n",
            " 0   id           514 non-null    int64 \n",
            " 1   nama_tempat  514 non-null    object\n",
            " 2   tags         514 non-null    object\n",
            "dtypes: int64(1), object(2)\n",
            "memory usage: 16.1+ KB\n"
          ]
        }
      ]
    },
    {
      "cell_type": "code",
      "source": [
        "# preprocessing column tags in the data copy of \"all_data\"\n",
        "data_content_based_filtering.tags = data_content_based_filtering.tags.apply(preprocessing)\n",
        "data_content_based_filtering"
      ],
      "metadata": {
        "colab": {
          "base_uri": "https://localhost:8080/",
          "height": 423
        },
        "id": "60Db7VufK-Et",
        "outputId": "a7c5a844-eb31-4bb8-e911-7f7e02ea52f4"
      },
      "execution_count": 16,
      "outputs": [
        {
          "output_type": "execute_result",
          "data": {
            "text/plain": [
              "      id                nama_tempat  \\\n",
              "0      1       Trans Studio Bandung   \n",
              "1      2    Farm House Susu Lembang   \n",
              "2      3                Dusun Bambu   \n",
              "3      4     Kebun Binatang Bandung   \n",
              "4      5             Dago Dreampark   \n",
              "..   ...                        ...   \n",
              "510  511       Klenteng Pak Kik Bio   \n",
              "511  512     Klenteng Sanggar Agung   \n",
              "512  513   Masjid Agung Sunan Ampel   \n",
              "513  514  Masjid Muhammad Cheng Hoo   \n",
              "514  515   Masjid Nasional Al-Akbar   \n",
              "\n",
              "                                                  tags  \n",
              "0    trans studio bandung buah kompleks taman hibur...  \n",
              "1    farm house susu lembang destinasi tawar alam t...  \n",
              "2    dusun bambu destinasi wisata tawar alam satu a...  \n",
              "3    kebun binatang bandung kenal bagai kebun binat...  \n",
              "4    dago dreampark kompleks rekreasi letak dago ba...  \n",
              "..                                                 ...  \n",
              "510  kelenteng pak kik bio buah kelenteng letak dae...  \n",
              "511  kelenteng sanggar agung klenteng hong san tang...  \n",
              "512  masjid agung sunan ampel buah masjid kuno leta...  \n",
              "513  masjid cheng hoo surabaya masjid nuansa muslim...  \n",
              "514  masjid nasional al akbar biasa sebut masjid ag...  \n",
              "\n",
              "[514 rows x 3 columns]"
            ],
            "text/html": [
              "\n",
              "  <div id=\"df-d3caeeeb-ec9e-44fb-8c85-3ce4903350e2\">\n",
              "    <div class=\"colab-df-container\">\n",
              "      <div>\n",
              "<style scoped>\n",
              "    .dataframe tbody tr th:only-of-type {\n",
              "        vertical-align: middle;\n",
              "    }\n",
              "\n",
              "    .dataframe tbody tr th {\n",
              "        vertical-align: top;\n",
              "    }\n",
              "\n",
              "    .dataframe thead th {\n",
              "        text-align: right;\n",
              "    }\n",
              "</style>\n",
              "<table border=\"1\" class=\"dataframe\">\n",
              "  <thead>\n",
              "    <tr style=\"text-align: right;\">\n",
              "      <th></th>\n",
              "      <th>id</th>\n",
              "      <th>nama_tempat</th>\n",
              "      <th>tags</th>\n",
              "    </tr>\n",
              "  </thead>\n",
              "  <tbody>\n",
              "    <tr>\n",
              "      <th>0</th>\n",
              "      <td>1</td>\n",
              "      <td>Trans Studio Bandung</td>\n",
              "      <td>trans studio bandung buah kompleks taman hibur...</td>\n",
              "    </tr>\n",
              "    <tr>\n",
              "      <th>1</th>\n",
              "      <td>2</td>\n",
              "      <td>Farm House Susu Lembang</td>\n",
              "      <td>farm house susu lembang destinasi tawar alam t...</td>\n",
              "    </tr>\n",
              "    <tr>\n",
              "      <th>2</th>\n",
              "      <td>3</td>\n",
              "      <td>Dusun Bambu</td>\n",
              "      <td>dusun bambu destinasi wisata tawar alam satu a...</td>\n",
              "    </tr>\n",
              "    <tr>\n",
              "      <th>3</th>\n",
              "      <td>4</td>\n",
              "      <td>Kebun Binatang Bandung</td>\n",
              "      <td>kebun binatang bandung kenal bagai kebun binat...</td>\n",
              "    </tr>\n",
              "    <tr>\n",
              "      <th>4</th>\n",
              "      <td>5</td>\n",
              "      <td>Dago Dreampark</td>\n",
              "      <td>dago dreampark kompleks rekreasi letak dago ba...</td>\n",
              "    </tr>\n",
              "    <tr>\n",
              "      <th>...</th>\n",
              "      <td>...</td>\n",
              "      <td>...</td>\n",
              "      <td>...</td>\n",
              "    </tr>\n",
              "    <tr>\n",
              "      <th>510</th>\n",
              "      <td>511</td>\n",
              "      <td>Klenteng Pak Kik Bio</td>\n",
              "      <td>kelenteng pak kik bio buah kelenteng letak dae...</td>\n",
              "    </tr>\n",
              "    <tr>\n",
              "      <th>511</th>\n",
              "      <td>512</td>\n",
              "      <td>Klenteng Sanggar Agung</td>\n",
              "      <td>kelenteng sanggar agung klenteng hong san tang...</td>\n",
              "    </tr>\n",
              "    <tr>\n",
              "      <th>512</th>\n",
              "      <td>513</td>\n",
              "      <td>Masjid Agung Sunan Ampel</td>\n",
              "      <td>masjid agung sunan ampel buah masjid kuno leta...</td>\n",
              "    </tr>\n",
              "    <tr>\n",
              "      <th>513</th>\n",
              "      <td>514</td>\n",
              "      <td>Masjid Muhammad Cheng Hoo</td>\n",
              "      <td>masjid cheng hoo surabaya masjid nuansa muslim...</td>\n",
              "    </tr>\n",
              "    <tr>\n",
              "      <th>514</th>\n",
              "      <td>515</td>\n",
              "      <td>Masjid Nasional Al-Akbar</td>\n",
              "      <td>masjid nasional al akbar biasa sebut masjid ag...</td>\n",
              "    </tr>\n",
              "  </tbody>\n",
              "</table>\n",
              "<p>514 rows × 3 columns</p>\n",
              "</div>\n",
              "      <button class=\"colab-df-convert\" onclick=\"convertToInteractive('df-d3caeeeb-ec9e-44fb-8c85-3ce4903350e2')\"\n",
              "              title=\"Convert this dataframe to an interactive table.\"\n",
              "              style=\"display:none;\">\n",
              "        \n",
              "  <svg xmlns=\"http://www.w3.org/2000/svg\" height=\"24px\"viewBox=\"0 0 24 24\"\n",
              "       width=\"24px\">\n",
              "    <path d=\"M0 0h24v24H0V0z\" fill=\"none\"/>\n",
              "    <path d=\"M18.56 5.44l.94 2.06.94-2.06 2.06-.94-2.06-.94-.94-2.06-.94 2.06-2.06.94zm-11 1L8.5 8.5l.94-2.06 2.06-.94-2.06-.94L8.5 2.5l-.94 2.06-2.06.94zm10 10l.94 2.06.94-2.06 2.06-.94-2.06-.94-.94-2.06-.94 2.06-2.06.94z\"/><path d=\"M17.41 7.96l-1.37-1.37c-.4-.4-.92-.59-1.43-.59-.52 0-1.04.2-1.43.59L10.3 9.45l-7.72 7.72c-.78.78-.78 2.05 0 2.83L4 21.41c.39.39.9.59 1.41.59.51 0 1.02-.2 1.41-.59l7.78-7.78 2.81-2.81c.8-.78.8-2.07 0-2.86zM5.41 20L4 18.59l7.72-7.72 1.47 1.35L5.41 20z\"/>\n",
              "  </svg>\n",
              "      </button>\n",
              "      \n",
              "  <style>\n",
              "    .colab-df-container {\n",
              "      display:flex;\n",
              "      flex-wrap:wrap;\n",
              "      gap: 12px;\n",
              "    }\n",
              "\n",
              "    .colab-df-convert {\n",
              "      background-color: #E8F0FE;\n",
              "      border: none;\n",
              "      border-radius: 50%;\n",
              "      cursor: pointer;\n",
              "      display: none;\n",
              "      fill: #1967D2;\n",
              "      height: 32px;\n",
              "      padding: 0 0 0 0;\n",
              "      width: 32px;\n",
              "    }\n",
              "\n",
              "    .colab-df-convert:hover {\n",
              "      background-color: #E2EBFA;\n",
              "      box-shadow: 0px 1px 2px rgba(60, 64, 67, 0.3), 0px 1px 3px 1px rgba(60, 64, 67, 0.15);\n",
              "      fill: #174EA6;\n",
              "    }\n",
              "\n",
              "    [theme=dark] .colab-df-convert {\n",
              "      background-color: #3B4455;\n",
              "      fill: #D2E3FC;\n",
              "    }\n",
              "\n",
              "    [theme=dark] .colab-df-convert:hover {\n",
              "      background-color: #434B5C;\n",
              "      box-shadow: 0px 1px 3px 1px rgba(0, 0, 0, 0.15);\n",
              "      filter: drop-shadow(0px 1px 2px rgba(0, 0, 0, 0.3));\n",
              "      fill: #FFFFFF;\n",
              "    }\n",
              "  </style>\n",
              "\n",
              "      <script>\n",
              "        const buttonEl =\n",
              "          document.querySelector('#df-d3caeeeb-ec9e-44fb-8c85-3ce4903350e2 button.colab-df-convert');\n",
              "        buttonEl.style.display =\n",
              "          google.colab.kernel.accessAllowed ? 'block' : 'none';\n",
              "\n",
              "        async function convertToInteractive(key) {\n",
              "          const element = document.querySelector('#df-d3caeeeb-ec9e-44fb-8c85-3ce4903350e2');\n",
              "          const dataTable =\n",
              "            await google.colab.kernel.invokeFunction('convertToInteractive',\n",
              "                                                     [key], {});\n",
              "          if (!dataTable) return;\n",
              "\n",
              "          const docLinkHtml = 'Like what you see? Visit the ' +\n",
              "            '<a target=\"_blank\" href=https://colab.research.google.com/notebooks/data_table.ipynb>data table notebook</a>'\n",
              "            + ' to learn more about interactive tables.';\n",
              "          element.innerHTML = '';\n",
              "          dataTable['output_type'] = 'display_data';\n",
              "          await google.colab.output.renderOutput(dataTable, element);\n",
              "          const docLink = document.createElement('div');\n",
              "          docLink.innerHTML = docLinkHtml;\n",
              "          element.appendChild(docLink);\n",
              "        }\n",
              "      </script>\n",
              "    </div>\n",
              "  </div>\n",
              "  "
            ]
          },
          "metadata": {},
          "execution_count": 16
        }
      ]
    },
    {
      "cell_type": "markdown",
      "source": [
        "# TF-IDF Vectorizer\n",
        "TF-IDF Vectorizer is a commonly used technique in natural language processing (NLP) and information retrieval to convert text documents into numerical feature vectors. TF-IDF stands for \"Term Frequency-Inverse Document Frequency.\""
      ],
      "metadata": {
        "id": "VDUAU6jf7j9L"
      }
    },
    {
      "cell_type": "code",
      "source": [
        "# change that to one-hot encoding\n",
        "vectors = tv.fit_transform(data_content_based_filtering.tags).toarray()\n",
        "vectors"
      ],
      "metadata": {
        "id": "8DotFZPz7i7O",
        "colab": {
          "base_uri": "https://localhost:8080/"
        },
        "outputId": "cd6b74c5-2919-4c0f-f612-8907a0fcf078"
      },
      "execution_count": 17,
      "outputs": [
        {
          "output_type": "execute_result",
          "data": {
            "text/plain": [
              "array([[0.        , 0.        , 0.        , ..., 0.        , 0.        ,\n",
              "        0.        ],\n",
              "       [0.        , 0.        , 0.        , ..., 0.        , 0.        ,\n",
              "        0.        ],\n",
              "       [0.        , 0.        , 0.        , ..., 0.        , 0.        ,\n",
              "        0.        ],\n",
              "       ...,\n",
              "       [0.        , 0.        , 0.        , ..., 0.        , 0.        ,\n",
              "        0.        ],\n",
              "       [0.        , 0.04168378, 0.        , ..., 0.        , 0.        ,\n",
              "        0.        ],\n",
              "       [0.        , 0.        , 0.        , ..., 0.        , 0.        ,\n",
              "        0.        ]])"
            ]
          },
          "metadata": {},
          "execution_count": 17
        }
      ]
    },
    {
      "cell_type": "markdown",
      "source": [
        "Calculate the cosine similarity"
      ],
      "metadata": {
        "id": "vpDptIoP_onw"
      }
    },
    {
      "cell_type": "code",
      "source": [
        "similarity = cosine_similarity(vectors)\n",
        "similarity[0][1:10]"
      ],
      "metadata": {
        "id": "lfpdSPk6_ezO",
        "colab": {
          "base_uri": "https://localhost:8080/"
        },
        "outputId": "d62406f6-f7b8-494a-eab7-dce38fa2a0ab"
      },
      "execution_count": 18,
      "outputs": [
        {
          "output_type": "execute_result",
          "data": {
            "text/plain": [
              "array([0.06014466, 0.07571811, 0.06575713, 0.15694725, 0.06763835,\n",
              "       0.08839171, 0.08618244, 0.09639942, 0.21235394])"
            ]
          },
          "metadata": {},
          "execution_count": 18
        }
      ]
    },
    {
      "cell_type": "code",
      "source": [
        "nama_tempat = data_content_based_filtering['nama_tempat'].tolist()[:5]\n",
        "cosine_sim_df = pd.DataFrame(similarity[:5, :5], index=nama_tempat, columns=nama_tempat)\n",
        "print(cosine_sim_df)\n"
      ],
      "metadata": {
        "colab": {
          "base_uri": "https://localhost:8080/"
        },
        "id": "4sjsX-73SKvV",
        "outputId": "d89feb58-06a1-4cd7-eec8-79469678b87b"
      },
      "execution_count": 20,
      "outputs": [
        {
          "output_type": "stream",
          "name": "stdout",
          "text": [
            "                         Trans Studio Bandung  Farm House Susu Lembang  \\\n",
            "Trans Studio Bandung                 1.000000                 0.060145   \n",
            "Farm House Susu Lembang              0.060145                 1.000000   \n",
            "Dusun Bambu                          0.075718                 0.141027   \n",
            "Kebun Binatang Bandung               0.065757                 0.112839   \n",
            "Dago Dreampark                       0.156947                 0.117568   \n",
            "\n",
            "                         Dusun Bambu  Kebun Binatang Bandung  Dago Dreampark  \n",
            "Trans Studio Bandung        0.075718                0.065757        0.156947  \n",
            "Farm House Susu Lembang     0.141027                0.112839        0.117568  \n",
            "Dusun Bambu                 1.000000                0.090674        0.096211  \n",
            "Kebun Binatang Bandung      0.090674                1.000000        0.068844  \n",
            "Dago Dreampark              0.096211                0.068844        1.000000  \n"
          ]
        }
      ]
    },
    {
      "cell_type": "markdown",
      "source": [
        "# Recommendation\n"
      ],
      "metadata": {
        "id": "S3vSXbzgAA2o"
      }
    },
    {
      "cell_type": "code",
      "source": [
        "def recommend(place_name):\n",
        "    place_name_index = data_content_based_filtering[data_content_based_filtering['nama_tempat']==place_name].index[0]\n",
        "    distancess = similarity[place_name_index]\n",
        "    place_name_list = sorted(list(enumerate(distancess)),key=lambda x: x[1],reverse=True)[1:10]\n",
        "    \n",
        "    recommended = []\n",
        "    for i in place_name_list:\n",
        "        recommended.append([data_content_based_filtering.iloc[i[0]].nama_tempat]+[i[1]])\n",
        "        # print(nama_tempats.iloc[i[0]].original_title)\n",
        "        \n",
        "    return recommended"
      ],
      "metadata": {
        "id": "xghUirAsAAPi"
      },
      "execution_count": 23,
      "outputs": []
    },
    {
      "cell_type": "code",
      "source": [
        "recommend(\"Pantai Ancol\")"
      ],
      "metadata": {
        "id": "yQtFnuWyAaB9",
        "colab": {
          "base_uri": "https://localhost:8080/"
        },
        "outputId": "1758307d-a8d9-462a-8bc0-d75791cc4f66"
      },
      "execution_count": 24,
      "outputs": [
        {
          "output_type": "execute_result",
          "data": {
            "text/plain": [
              "[['Taman Impian Jaya Ancol', 0.33969271423803293],\n",
              " ['Pulau Tidung', 0.23888008669183597],\n",
              " ['Pulau Pari', 0.2107826477604192],\n",
              " ['Dunia Fantasi', 0.2058831075322734],\n",
              " ['Pantai Ancol', 0.2013618410222182],\n",
              " ['Waterboom PIK (Pantai Indah Kapuk)', 0.19342386984638593],\n",
              " ['Pulau Semak Daun', 0.19162166530861197],\n",
              " ['Pulau Pramuka', 0.18893691888216033],\n",
              " ['Atlantis Water Adventure', 0.18771101763628004]]"
            ]
          },
          "metadata": {},
          "execution_count": 24
        }
      ]
    },
    {
      "cell_type": "code",
      "source": [
        "recommend(\"Curug Siliwangi\")"
      ],
      "metadata": {
        "id": "xRNODp7rAfFB",
        "colab": {
          "base_uri": "https://localhost:8080/"
        },
        "outputId": "8f1a64ee-eb8f-4a27-b514-9e69fa1935ef"
      },
      "execution_count": 25,
      "outputs": [
        {
          "output_type": "execute_result",
          "data": {
            "text/plain": [
              "[['Curug Dago', 0.48538865869640985],\n",
              " ['Curug Bugbrug', 0.44678123864504626],\n",
              " ['Curug Cinulang', 0.441104835840292],\n",
              " ['Curug Aseupan', 0.4368517475811361],\n",
              " ['Curug Cipanji', 0.4276211106346095],\n",
              " ['Curug Cipanas', 0.4062423223327241],\n",
              " ['Curug Anom', 0.40476923523769637],\n",
              " ['Curug Luhur Waterfall', 0.3749256710467978],\n",
              " ['Curug Cilengkrang', 0.3579332592250124]]"
            ]
          },
          "metadata": {},
          "execution_count": 25
        }
      ]
    },
    {
      "cell_type": "markdown",
      "source": [
        "## Succeded\n",
        "\n",
        "This is the recommendation based on \"Kategori\" and \"Deskripsi\""
      ],
      "metadata": {
        "id": "5LDdTJqiRcYS"
      }
    }
  ]
}