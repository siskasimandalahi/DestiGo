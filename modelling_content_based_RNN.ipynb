{
  "cells": [
    {
      "attachments": {},
      "cell_type": "markdown",
      "metadata": {
        "id": "FQlYv4-RGz9e"
      },
      "source": [
        "# **Get dataset from GitHub**"
      ]
    },
    {
      "cell_type": "code",
      "execution_count": 1,
      "metadata": {},
      "outputs": [],
      "source": [
        "import requests\n",
        "\n",
        "url = \"https://raw.githubusercontent.com/siskasimandalahi/DestiGo/Machine-Learning/Dataset/data_destinasi_wisata.csv\"\n",
        "response = requests.get(url)\n",
        "with open(\"data_destinasi_wisata.csv\", \"wb\") as file:\n",
        "    file.write(response.content)"
      ]
    },
    {
      "cell_type": "code",
      "execution_count": 2,
      "metadata": {
        "colab": {
          "base_uri": "https://localhost:8080/"
        },
        "id": "C9mRZYr-yosj",
        "outputId": "ca5fee49-ef84-47ea-d3b8-43a45920adf2"
      },
      "outputs": [
        {
          "name": "stdout",
          "output_type": "stream",
          "text": [
            "Requirement already satisfied: pandas in c:\\users\\roro\\appdata\\local\\programs\\python\\python310\\lib\\site-packages (2.0.2)\n",
            "Requirement already satisfied: python-dateutil>=2.8.2 in c:\\users\\roro\\appdata\\roaming\\python\\python310\\site-packages (from pandas) (2.8.2)\n",
            "Requirement already satisfied: pytz>=2020.1 in c:\\users\\roro\\appdata\\local\\programs\\python\\python310\\lib\\site-packages (from pandas) (2023.3)\n",
            "Requirement already satisfied: tzdata>=2022.1 in c:\\users\\roro\\appdata\\local\\programs\\python\\python310\\lib\\site-packages (from pandas) (2023.3)\n",
            "Requirement already satisfied: numpy>=1.21.0 in c:\\users\\roro\\appdata\\local\\programs\\python\\python310\\lib\\site-packages (from pandas) (1.23.5)\n",
            "Requirement already satisfied: six>=1.5 in c:\\users\\roro\\appdata\\roaming\\python\\python310\\site-packages (from python-dateutil>=2.8.2->pandas) (1.16.0)\n",
            "Requirement already satisfied: numpy in c:\\users\\roro\\appdata\\local\\programs\\python\\python310\\lib\\site-packages (1.23.5)\n",
            "Requirement already satisfied: tensorflow in c:\\users\\roro\\appdata\\local\\programs\\python\\python310\\lib\\site-packages (2.12.0)\n",
            "Requirement already satisfied: tensorflow-intel==2.12.0 in c:\\users\\roro\\appdata\\local\\programs\\python\\python310\\lib\\site-packages (from tensorflow) (2.12.0)\n",
            "Requirement already satisfied: absl-py>=1.0.0 in c:\\users\\roro\\appdata\\local\\programs\\python\\python310\\lib\\site-packages (from tensorflow-intel==2.12.0->tensorflow) (1.4.0)\n",
            "Requirement already satisfied: astunparse>=1.6.0 in c:\\users\\roro\\appdata\\local\\programs\\python\\python310\\lib\\site-packages (from tensorflow-intel==2.12.0->tensorflow) (1.6.3)\n",
            "Requirement already satisfied: flatbuffers>=2.0 in c:\\users\\roro\\appdata\\local\\programs\\python\\python310\\lib\\site-packages (from tensorflow-intel==2.12.0->tensorflow) (23.5.26)\n",
            "Requirement already satisfied: gast<=0.4.0,>=0.2.1 in c:\\users\\roro\\appdata\\local\\programs\\python\\python310\\lib\\site-packages (from tensorflow-intel==2.12.0->tensorflow) (0.4.0)\n",
            "Requirement already satisfied: google-pasta>=0.1.1 in c:\\users\\roro\\appdata\\local\\programs\\python\\python310\\lib\\site-packages (from tensorflow-intel==2.12.0->tensorflow) (0.2.0)\n",
            "Requirement already satisfied: h5py>=2.9.0 in c:\\users\\roro\\appdata\\local\\programs\\python\\python310\\lib\\site-packages (from tensorflow-intel==2.12.0->tensorflow) (3.8.0)\n",
            "Requirement already satisfied: jax>=0.3.15 in c:\\users\\roro\\appdata\\local\\programs\\python\\python310\\lib\\site-packages (from tensorflow-intel==2.12.0->tensorflow) (0.4.12)\n",
            "Requirement already satisfied: libclang>=13.0.0 in c:\\users\\roro\\appdata\\local\\programs\\python\\python310\\lib\\site-packages (from tensorflow-intel==2.12.0->tensorflow) (16.0.0)\n",
            "Requirement already satisfied: numpy<1.24,>=1.22 in c:\\users\\roro\\appdata\\local\\programs\\python\\python310\\lib\\site-packages (from tensorflow-intel==2.12.0->tensorflow) (1.23.5)\n",
            "Requirement already satisfied: opt-einsum>=2.3.2 in c:\\users\\roro\\appdata\\local\\programs\\python\\python310\\lib\\site-packages (from tensorflow-intel==2.12.0->tensorflow) (3.3.0)\n",
            "Requirement already satisfied: packaging in c:\\users\\roro\\appdata\\roaming\\python\\python310\\site-packages (from tensorflow-intel==2.12.0->tensorflow) (23.1)\n",
            "Requirement already satisfied: protobuf!=4.21.0,!=4.21.1,!=4.21.2,!=4.21.3,!=4.21.4,!=4.21.5,<5.0.0dev,>=3.20.3 in c:\\users\\roro\\appdata\\local\\programs\\python\\python310\\lib\\site-packages (from tensorflow-intel==2.12.0->tensorflow) (4.23.3)\n",
            "Requirement already satisfied: setuptools in c:\\users\\roro\\appdata\\local\\programs\\python\\python310\\lib\\site-packages (from tensorflow-intel==2.12.0->tensorflow) (65.5.0)\n",
            "Requirement already satisfied: six>=1.12.0 in c:\\users\\roro\\appdata\\roaming\\python\\python310\\site-packages (from tensorflow-intel==2.12.0->tensorflow) (1.16.0)\n",
            "Requirement already satisfied: termcolor>=1.1.0 in c:\\users\\roro\\appdata\\local\\programs\\python\\python310\\lib\\site-packages (from tensorflow-intel==2.12.0->tensorflow) (2.3.0)\n",
            "Requirement already satisfied: typing-extensions>=3.6.6 in c:\\users\\roro\\appdata\\roaming\\python\\python310\\site-packages (from tensorflow-intel==2.12.0->tensorflow) (4.6.3)\n",
            "Requirement already satisfied: wrapt<1.15,>=1.11.0 in c:\\users\\roro\\appdata\\local\\programs\\python\\python310\\lib\\site-packages (from tensorflow-intel==2.12.0->tensorflow) (1.14.1)\n",
            "Requirement already satisfied: grpcio<2.0,>=1.24.3 in c:\\users\\roro\\appdata\\local\\programs\\python\\python310\\lib\\site-packages (from tensorflow-intel==2.12.0->tensorflow) (1.54.2)\n",
            "Requirement already satisfied: tensorboard<2.13,>=2.12 in c:\\users\\roro\\appdata\\local\\programs\\python\\python310\\lib\\site-packages (from tensorflow-intel==2.12.0->tensorflow) (2.12.3)\n",
            "Requirement already satisfied: tensorflow-estimator<2.13,>=2.12.0 in c:\\users\\roro\\appdata\\local\\programs\\python\\python310\\lib\\site-packages (from tensorflow-intel==2.12.0->tensorflow) (2.12.0)\n",
            "Requirement already satisfied: keras<2.13,>=2.12.0 in c:\\users\\roro\\appdata\\local\\programs\\python\\python310\\lib\\site-packages (from tensorflow-intel==2.12.0->tensorflow) (2.12.0)\n",
            "Requirement already satisfied: tensorflow-io-gcs-filesystem>=0.23.1 in c:\\users\\roro\\appdata\\local\\programs\\python\\python310\\lib\\site-packages (from tensorflow-intel==2.12.0->tensorflow) (0.31.0)\n",
            "Requirement already satisfied: wheel<1.0,>=0.23.0 in c:\\users\\roro\\appdata\\local\\programs\\python\\python310\\lib\\site-packages (from astunparse>=1.6.0->tensorflow-intel==2.12.0->tensorflow) (0.40.0)\n",
            "Requirement already satisfied: ml-dtypes>=0.1.0 in c:\\users\\roro\\appdata\\local\\programs\\python\\python310\\lib\\site-packages (from jax>=0.3.15->tensorflow-intel==2.12.0->tensorflow) (0.2.0)\n",
            "Requirement already satisfied: scipy>=1.7 in c:\\users\\roro\\appdata\\local\\programs\\python\\python310\\lib\\site-packages (from jax>=0.3.15->tensorflow-intel==2.12.0->tensorflow) (1.10.1)\n",
            "Requirement already satisfied: google-auth<3,>=1.6.3 in c:\\users\\roro\\appdata\\local\\programs\\python\\python310\\lib\\site-packages (from tensorboard<2.13,>=2.12->tensorflow-intel==2.12.0->tensorflow) (2.20.0)\n",
            "Requirement already satisfied: google-auth-oauthlib<1.1,>=0.5 in c:\\users\\roro\\appdata\\local\\programs\\python\\python310\\lib\\site-packages (from tensorboard<2.13,>=2.12->tensorflow-intel==2.12.0->tensorflow) (1.0.0)\n",
            "Requirement already satisfied: markdown>=2.6.8 in c:\\users\\roro\\appdata\\local\\programs\\python\\python310\\lib\\site-packages (from tensorboard<2.13,>=2.12->tensorflow-intel==2.12.0->tensorflow) (3.4.3)\n",
            "Requirement already satisfied: requests<3,>=2.21.0 in c:\\users\\roro\\appdata\\local\\programs\\python\\python310\\lib\\site-packages (from tensorboard<2.13,>=2.12->tensorflow-intel==2.12.0->tensorflow) (2.31.0)\n",
            "Requirement already satisfied: tensorboard-data-server<0.8.0,>=0.7.0 in c:\\users\\roro\\appdata\\local\\programs\\python\\python310\\lib\\site-packages (from tensorboard<2.13,>=2.12->tensorflow-intel==2.12.0->tensorflow) (0.7.1)\n",
            "Requirement already satisfied: werkzeug>=1.0.1 in c:\\users\\roro\\appdata\\local\\programs\\python\\python310\\lib\\site-packages (from tensorboard<2.13,>=2.12->tensorflow-intel==2.12.0->tensorflow) (2.3.6)\n",
            "Requirement already satisfied: cachetools<6.0,>=2.0.0 in c:\\users\\roro\\appdata\\local\\programs\\python\\python310\\lib\\site-packages (from google-auth<3,>=1.6.3->tensorboard<2.13,>=2.12->tensorflow-intel==2.12.0->tensorflow) (5.3.1)\n",
            "Requirement already satisfied: pyasn1-modules>=0.2.1 in c:\\users\\roro\\appdata\\local\\programs\\python\\python310\\lib\\site-packages (from google-auth<3,>=1.6.3->tensorboard<2.13,>=2.12->tensorflow-intel==2.12.0->tensorflow) (0.3.0)\n",
            "Requirement already satisfied: rsa<5,>=3.1.4 in c:\\users\\roro\\appdata\\local\\programs\\python\\python310\\lib\\site-packages (from google-auth<3,>=1.6.3->tensorboard<2.13,>=2.12->tensorflow-intel==2.12.0->tensorflow) (4.9)\n",
            "Requirement already satisfied: urllib3<2.0 in c:\\users\\roro\\appdata\\local\\programs\\python\\python310\\lib\\site-packages (from google-auth<3,>=1.6.3->tensorboard<2.13,>=2.12->tensorflow-intel==2.12.0->tensorflow) (1.26.16)\n",
            "Requirement already satisfied: requests-oauthlib>=0.7.0 in c:\\users\\roro\\appdata\\local\\programs\\python\\python310\\lib\\site-packages (from google-auth-oauthlib<1.1,>=0.5->tensorboard<2.13,>=2.12->tensorflow-intel==2.12.0->tensorflow) (1.3.1)\n",
            "Requirement already satisfied: charset-normalizer<4,>=2 in c:\\users\\roro\\appdata\\local\\programs\\python\\python310\\lib\\site-packages (from requests<3,>=2.21.0->tensorboard<2.13,>=2.12->tensorflow-intel==2.12.0->tensorflow) (3.1.0)\n",
            "Requirement already satisfied: idna<4,>=2.5 in c:\\users\\roro\\appdata\\local\\programs\\python\\python310\\lib\\site-packages (from requests<3,>=2.21.0->tensorboard<2.13,>=2.12->tensorflow-intel==2.12.0->tensorflow) (3.4)\n",
            "Requirement already satisfied: certifi>=2017.4.17 in c:\\users\\roro\\appdata\\local\\programs\\python\\python310\\lib\\site-packages (from requests<3,>=2.21.0->tensorboard<2.13,>=2.12->tensorflow-intel==2.12.0->tensorflow) (2023.5.7)\n",
            "Requirement already satisfied: MarkupSafe>=2.1.1 in c:\\users\\roro\\appdata\\local\\programs\\python\\python310\\lib\\site-packages (from werkzeug>=1.0.1->tensorboard<2.13,>=2.12->tensorflow-intel==2.12.0->tensorflow) (2.1.3)\n",
            "Requirement already satisfied: pyasn1<0.6.0,>=0.4.6 in c:\\users\\roro\\appdata\\local\\programs\\python\\python310\\lib\\site-packages (from pyasn1-modules>=0.2.1->google-auth<3,>=1.6.3->tensorboard<2.13,>=2.12->tensorflow-intel==2.12.0->tensorflow) (0.5.0)\n",
            "Requirement already satisfied: oauthlib>=3.0.0 in c:\\users\\roro\\appdata\\local\\programs\\python\\python310\\lib\\site-packages (from requests-oauthlib>=0.7.0->google-auth-oauthlib<1.1,>=0.5->tensorboard<2.13,>=2.12->tensorflow-intel==2.12.0->tensorflow) (3.2.2)\n",
            "Requirement already satisfied: scikit-learn in c:\\users\\roro\\appdata\\local\\programs\\python\\python310\\lib\\site-packages (1.2.2)\n",
            "Requirement already satisfied: numpy>=1.17.3 in c:\\users\\roro\\appdata\\local\\programs\\python\\python310\\lib\\site-packages (from scikit-learn) (1.23.5)\n",
            "Requirement already satisfied: scipy>=1.3.2 in c:\\users\\roro\\appdata\\local\\programs\\python\\python310\\lib\\site-packages (from scikit-learn) (1.10.1)\n",
            "Requirement already satisfied: joblib>=1.1.1 in c:\\users\\roro\\appdata\\local\\programs\\python\\python310\\lib\\site-packages (from scikit-learn) (1.2.0)\n",
            "Requirement already satisfied: threadpoolctl>=2.0.0 in c:\\users\\roro\\appdata\\local\\programs\\python\\python310\\lib\\site-packages (from scikit-learn) (3.1.0)\n",
            "Requirement already satisfied: nltk in c:\\users\\roro\\appdata\\local\\programs\\python\\python310\\lib\\site-packages (3.8.1)\n",
            "Requirement already satisfied: click in c:\\users\\roro\\appdata\\local\\programs\\python\\python310\\lib\\site-packages (from nltk) (8.1.3)\n",
            "Requirement already satisfied: joblib in c:\\users\\roro\\appdata\\local\\programs\\python\\python310\\lib\\site-packages (from nltk) (1.2.0)\n",
            "Requirement already satisfied: regex>=2021.8.3 in c:\\users\\roro\\appdata\\local\\programs\\python\\python310\\lib\\site-packages (from nltk) (2023.6.3)\n",
            "Requirement already satisfied: tqdm in c:\\users\\roro\\appdata\\local\\programs\\python\\python310\\lib\\site-packages (from nltk) (4.65.0)\n",
            "Requirement already satisfied: colorama in c:\\users\\roro\\appdata\\roaming\\python\\python310\\site-packages (from click->nltk) (0.4.6)\n",
            "Requirement already satisfied: matplotlib in c:\\users\\roro\\appdata\\local\\programs\\python\\python310\\lib\\site-packages (3.7.1)\n",
            "Requirement already satisfied: contourpy>=1.0.1 in c:\\users\\roro\\appdata\\local\\programs\\python\\python310\\lib\\site-packages (from matplotlib) (1.1.0)\n",
            "Requirement already satisfied: cycler>=0.10 in c:\\users\\roro\\appdata\\local\\programs\\python\\python310\\lib\\site-packages (from matplotlib) (0.11.0)\n",
            "Requirement already satisfied: fonttools>=4.22.0 in c:\\users\\roro\\appdata\\local\\programs\\python\\python310\\lib\\site-packages (from matplotlib) (4.40.0)\n",
            "Requirement already satisfied: kiwisolver>=1.0.1 in c:\\users\\roro\\appdata\\local\\programs\\python\\python310\\lib\\site-packages (from matplotlib) (1.4.4)\n",
            "Requirement already satisfied: numpy>=1.20 in c:\\users\\roro\\appdata\\local\\programs\\python\\python310\\lib\\site-packages (from matplotlib) (1.23.5)\n",
            "Requirement already satisfied: packaging>=20.0 in c:\\users\\roro\\appdata\\roaming\\python\\python310\\site-packages (from matplotlib) (23.1)\n",
            "Requirement already satisfied: pillow>=6.2.0 in c:\\users\\roro\\appdata\\local\\programs\\python\\python310\\lib\\site-packages (from matplotlib) (9.5.0)\n",
            "Requirement already satisfied: pyparsing>=2.3.1 in c:\\users\\roro\\appdata\\local\\programs\\python\\python310\\lib\\site-packages (from matplotlib) (3.0.9)\n",
            "Requirement already satisfied: python-dateutil>=2.7 in c:\\users\\roro\\appdata\\roaming\\python\\python310\\site-packages (from matplotlib) (2.8.2)\n",
            "Requirement already satisfied: six>=1.5 in c:\\users\\roro\\appdata\\roaming\\python\\python310\\site-packages (from python-dateutil>=2.7->matplotlib) (1.16.0)\n"
          ]
        }
      ],
      "source": [
        "# install the required library\n",
        "!pip install pandas\n",
        "!pip install numpy\n",
        "!pip install tensorflow\n",
        "!pip install scikit-learn\n",
        "!pip install nltk\n",
        "!pip install matplotlib"
      ]
    },
    {
      "cell_type": "code",
      "execution_count": 3,
      "metadata": {
        "colab": {
          "base_uri": "https://localhost:8080/"
        },
        "id": "4LJetig2zB9L",
        "outputId": "c5c0324d-cabc-4435-9ec5-f396d7b9e857"
      },
      "outputs": [
        {
          "name": "stderr",
          "output_type": "stream",
          "text": [
            "[nltk_data] Downloading package stopwords to\n",
            "[nltk_data]     C:\\Users\\Roro\\AppData\\Roaming\\nltk_data...\n",
            "[nltk_data]   Package stopwords is already up-to-date!\n",
            "[nltk_data] Downloading package punkt to\n",
            "[nltk_data]     C:\\Users\\Roro\\AppData\\Roaming\\nltk_data...\n",
            "[nltk_data]   Package punkt is already up-to-date!\n",
            "[nltk_data] Error loading indonesian: Package 'indonesian' not found\n",
            "[nltk_data]     in index\n"
          ]
        },
        {
          "data": {
            "text/plain": [
              "False"
            ]
          },
          "execution_count": 3,
          "metadata": {},
          "output_type": "execute_result"
        }
      ],
      "source": [
        "import nltk\n",
        "nltk.download('stopwords')\n",
        "nltk.download('punkt')\n",
        "nltk.download('indonesian')"
      ]
    },
    {
      "attachments": {},
      "cell_type": "markdown",
      "metadata": {
        "id": "MMjtDr2Bw6kN"
      },
      "source": [
        "### **Import the required Library**"
      ]
    },
    {
      "cell_type": "code",
      "execution_count": 4,
      "metadata": {
        "id": "VMBSJEImv-iR"
      },
      "outputs": [],
      "source": [
        "# for preprocess data\n",
        "import pandas as pd\n",
        "import numpy as np\n",
        "from sklearn.feature_extraction.text import TfidfVectorizer\n",
        "import re\n",
        "from nltk.corpus import stopwords\n",
        "from nltk.tokenize import word_tokenize\n",
        "from nltk.stem import SnowballStemmer\n",
        "\n",
        "# for modelling\n",
        "from sklearn.model_selection import train_test_split\n",
        "from sklearn.preprocessing import LabelEncoder\n",
        "from tensorflow.keras.models import save_model\n",
        "from tensorflow.keras.preprocessing.text import Tokenizer\n",
        "from tensorflow.keras.preprocessing.sequence import pad_sequences\n",
        "from tensorflow.keras.models import Sequential\n",
        "from tensorflow.keras.layers import Embedding, LSTM, Dense, Flatten\n",
        "from tensorflow.keras.optimizers import Adam\n",
        "from tensorflow.keras.callbacks import EarlyStopping\n",
        "\n",
        "# visualization\n",
        "import matplotlib.pyplot as plt"
      ]
    },
    {
      "cell_type": "code",
      "execution_count": 5,
      "metadata": {
        "colab": {
          "base_uri": "https://localhost:8080/"
        },
        "id": "zUtVcHng8D-Y",
        "outputId": "2b2743c5-6ce6-4d29-ecb7-00d636fead39"
      },
      "outputs": [
        {
          "name": "stdout",
          "output_type": "stream",
          "text": [
            "1.23.5\n",
            "2.0.2\n",
            "1.2.2\n",
            "3.8.1\n",
            "2.12.0\n",
            "3.7.1\n"
          ]
        }
      ],
      "source": [
        "import sklearn\n",
        "import tensorflow as tf\n",
        "import matplotlib\n",
        "\n",
        "# check version\n",
        "print(np.__version__)\n",
        "print(pd.__version__)\n",
        "print(sklearn.__version__)\n",
        "print(nltk.__version__)\n",
        "print(tf.__version__)\n",
        "print(matplotlib.__version__)"
      ]
    },
    {
      "attachments": {},
      "cell_type": "markdown",
      "metadata": {
        "id": "655-2UZ0ycfO"
      },
      "source": [
        "### Data Understanding\n",
        "this is section that read the data that we get from github. File name is 'data_destinasi_wisata'"
      ]
    },
    {
      "cell_type": "code",
      "execution_count": 6,
      "metadata": {
        "colab": {
          "base_uri": "https://localhost:8080/",
          "height": 206
        },
        "id": "HQqJTmvMzBhU",
        "outputId": "5865b855-97f6-4559-c630-84f09b9f99d1"
      },
      "outputs": [
        {
          "data": {
            "text/html": [
              "<div>\n",
              "<style scoped>\n",
              "    .dataframe tbody tr th:only-of-type {\n",
              "        vertical-align: middle;\n",
              "    }\n",
              "\n",
              "    .dataframe tbody tr th {\n",
              "        vertical-align: top;\n",
              "    }\n",
              "\n",
              "    .dataframe thead th {\n",
              "        text-align: right;\n",
              "    }\n",
              "</style>\n",
              "<table border=\"1\" class=\"dataframe\">\n",
              "  <thead>\n",
              "    <tr style=\"text-align: right;\">\n",
              "      <th></th>\n",
              "      <th>id</th>\n",
              "      <th>nama_tempat</th>\n",
              "      <th>kategori</th>\n",
              "      <th>kota</th>\n",
              "      <th>alamat</th>\n",
              "      <th>deskripsi</th>\n",
              "      <th>lat</th>\n",
              "      <th>long</th>\n",
              "    </tr>\n",
              "  </thead>\n",
              "  <tbody>\n",
              "    <tr>\n",
              "      <th>433</th>\n",
              "      <td>434</td>\n",
              "      <td>Sego Sambel Mak Yeye</td>\n",
              "      <td>Kuliner</td>\n",
              "      <td>Surabaya</td>\n",
              "      <td>Jl. Jagir Wonokromo Wetan No.10, Jagir, Kec. W...</td>\n",
              "      <td>Mak Yeye adalah penyetan legendaris yang ada s...</td>\n",
              "      <td>-7.301319</td>\n",
              "      <td>112.735462</td>\n",
              "    </tr>\n",
              "    <tr>\n",
              "      <th>385</th>\n",
              "      <td>386</td>\n",
              "      <td>Museum De Javasche Bank</td>\n",
              "      <td>Budaya</td>\n",
              "      <td>Surabaya</td>\n",
              "      <td>Jl. Garuda No.1, Krembangan Sel., Kec. Kremban...</td>\n",
              "      <td>Museum Bank Indonesia (Bahasa Indonesia: Museu...</td>\n",
              "      <td>-7.235378</td>\n",
              "      <td>112.736765</td>\n",
              "    </tr>\n",
              "    <tr>\n",
              "      <th>429</th>\n",
              "      <td>430</td>\n",
              "      <td>Rujak CIngur dan Sop Buntut Genteng Durasim</td>\n",
              "      <td>Kuliner</td>\n",
              "      <td>Surabaya</td>\n",
              "      <td>Jl. Genteng Durasim No.29, RT.001/RW.05, Gente...</td>\n",
              "      <td>Rumah makan simpel yang sudah lama berdiri den...</td>\n",
              "      <td>-7.257715</td>\n",
              "      <td>112.737973</td>\n",
              "    </tr>\n",
              "    <tr>\n",
              "      <th>425</th>\n",
              "      <td>426</td>\n",
              "      <td>Nasi Pecel Bu Djoyo</td>\n",
              "      <td>Kuliner</td>\n",
              "      <td>Surabaya</td>\n",
              "      <td>Jl. Pandegiling No.318A, Wonorejo, Kec. Tegals...</td>\n",
              "      <td>Sebuah warung makan simpel yang menyajikan hid...</td>\n",
              "      <td>-7.274493</td>\n",
              "      <td>112.729612</td>\n",
              "    </tr>\n",
              "    <tr>\n",
              "      <th>383</th>\n",
              "      <td>384</td>\n",
              "      <td>Monumen Perjuangan Polisi Republik Indonesia</td>\n",
              "      <td>Budaya</td>\n",
              "      <td>Surabaya</td>\n",
              "      <td>PP9R+M9F, Jl. Polisi Istimewa, Keputran, Kec. ...</td>\n",
              "      <td>Monumen yang letaknya tidak jauh dari gedung W...</td>\n",
              "      <td>-7.280810</td>\n",
              "      <td>112.740926</td>\n",
              "    </tr>\n",
              "  </tbody>\n",
              "</table>\n",
              "</div>"
            ],
            "text/plain": [
              "      id                                   nama_tempat kategori      kota  \\\n",
              "433  434                          Sego Sambel Mak Yeye  Kuliner  Surabaya   \n",
              "385  386                       Museum De Javasche Bank   Budaya  Surabaya   \n",
              "429  430   Rujak CIngur dan Sop Buntut Genteng Durasim  Kuliner  Surabaya   \n",
              "425  426                           Nasi Pecel Bu Djoyo  Kuliner  Surabaya   \n",
              "383  384  Monumen Perjuangan Polisi Republik Indonesia   Budaya  Surabaya   \n",
              "\n",
              "                                                alamat  \\\n",
              "433  Jl. Jagir Wonokromo Wetan No.10, Jagir, Kec. W...   \n",
              "385  Jl. Garuda No.1, Krembangan Sel., Kec. Kremban...   \n",
              "429  Jl. Genteng Durasim No.29, RT.001/RW.05, Gente...   \n",
              "425  Jl. Pandegiling No.318A, Wonorejo, Kec. Tegals...   \n",
              "383  PP9R+M9F, Jl. Polisi Istimewa, Keputran, Kec. ...   \n",
              "\n",
              "                                             deskripsi       lat        long  \n",
              "433  Mak Yeye adalah penyetan legendaris yang ada s... -7.301319  112.735462  \n",
              "385  Museum Bank Indonesia (Bahasa Indonesia: Museu... -7.235378  112.736765  \n",
              "429  Rumah makan simpel yang sudah lama berdiri den... -7.257715  112.737973  \n",
              "425  Sebuah warung makan simpel yang menyajikan hid... -7.274493  112.729612  \n",
              "383  Monumen yang letaknya tidak jauh dari gedung W... -7.280810  112.740926  "
            ]
          },
          "execution_count": 6,
          "metadata": {},
          "output_type": "execute_result"
        }
      ],
      "source": [
        "# read the data\n",
        "destinations = pd.read_csv('data_destinasi_wisata.csv')\n",
        "destinations.sample(5)"
      ]
    },
    {
      "cell_type": "code",
      "execution_count": 7,
      "metadata": {
        "colab": {
          "base_uri": "https://localhost:8080/"
        },
        "id": "0yA_NPVFzgVC",
        "outputId": "7dfd7aba-22c1-4bcd-9996-1750b02d69d9"
      },
      "outputs": [
        {
          "name": "stdout",
          "output_type": "stream",
          "text": [
            "Number of places in the datasets : 515\n"
          ]
        }
      ],
      "source": [
        "print(f\"Number of places in the datasets : {len(destinations.id.unique())}\")"
      ]
    },
    {
      "attachments": {},
      "cell_type": "markdown",
      "metadata": {
        "id": "PCRZs-KEz7PP"
      },
      "source": [
        "### Exploratory Data Analysis\n",
        "In this section, we analysis the data that we get which checks whether there are null data and drop data that are not used for processing"
      ]
    },
    {
      "cell_type": "code",
      "execution_count": 8,
      "metadata": {
        "colab": {
          "base_uri": "https://localhost:8080/"
        },
        "id": "4j6-tKa80IQo",
        "outputId": "c6bbb47f-f03c-49db-a5ce-0d5788a2cdfe"
      },
      "outputs": [
        {
          "name": "stdout",
          "output_type": "stream",
          "text": [
            "<class 'pandas.core.frame.DataFrame'>\n",
            "RangeIndex: 515 entries, 0 to 514\n",
            "Data columns (total 8 columns):\n",
            " #   Column       Non-Null Count  Dtype  \n",
            "---  ------       --------------  -----  \n",
            " 0   id           515 non-null    int64  \n",
            " 1   nama_tempat  515 non-null    object \n",
            " 2   kategori     515 non-null    object \n",
            " 3   kota         515 non-null    object \n",
            " 4   alamat       515 non-null    object \n",
            " 5   deskripsi    514 non-null    object \n",
            " 6   lat          515 non-null    float64\n",
            " 7   long         515 non-null    float64\n",
            "dtypes: float64(2), int64(1), object(5)\n",
            "memory usage: 32.3+ KB\n"
          ]
        }
      ],
      "source": [
        "# check info of dataset such as how many column and what is the type\n",
        "destinations.info()"
      ]
    },
    {
      "cell_type": "code",
      "execution_count": 9,
      "metadata": {
        "colab": {
          "base_uri": "https://localhost:8080/"
        },
        "id": "h0HQoxu80foM",
        "outputId": "5548e9a0-10e5-473b-fd49-b42dc84c1b85"
      },
      "outputs": [
        {
          "data": {
            "text/plain": [
              "id             0\n",
              "nama_tempat    0\n",
              "kategori       0\n",
              "kota           0\n",
              "alamat         0\n",
              "deskripsi      1\n",
              "lat            0\n",
              "long           0\n",
              "dtype: int64"
            ]
          },
          "execution_count": 9,
          "metadata": {},
          "output_type": "execute_result"
        }
      ],
      "source": [
        "# check if there is null\n",
        "destinations.isnull().sum()"
      ]
    },
    {
      "cell_type": "code",
      "execution_count": 10,
      "metadata": {
        "colab": {
          "base_uri": "https://localhost:8080/"
        },
        "id": "xUaL6te6HBPk",
        "outputId": "898af803-680e-4210-a646-c3784a5ae83b"
      },
      "outputs": [
        {
          "data": {
            "text/plain": [
              "id             0\n",
              "nama_tempat    0\n",
              "kategori       0\n",
              "kota           0\n",
              "alamat         0\n",
              "deskripsi      0\n",
              "lat            0\n",
              "long           0\n",
              "dtype: int64"
            ]
          },
          "execution_count": 10,
          "metadata": {},
          "output_type": "execute_result"
        }
      ],
      "source": [
        "# drop the null data\n",
        "destinations = destinations.dropna(subset=['deskripsi'])\n",
        "\n",
        "# check again that null in 'deskripsi' is drop\n",
        "destinations.isnull().sum()"
      ]
    },
    {
      "cell_type": "code",
      "execution_count": 11,
      "metadata": {
        "colab": {
          "base_uri": "https://localhost:8080/"
        },
        "id": "ZZj7VZW24KHs",
        "outputId": "3e86bf57-8c1c-4dc9-d4ac-56e527f70d0f"
      },
      "outputs": [
        {
          "data": {
            "text/plain": [
              "id             0\n",
              "nama_tempat    0\n",
              "kategori       0\n",
              "kota           0\n",
              "alamat         0\n",
              "deskripsi      0\n",
              "lat            0\n",
              "long           0\n",
              "dtype: int64"
            ]
          },
          "execution_count": 11,
          "metadata": {},
          "output_type": "execute_result"
        }
      ],
      "source": [
        "# check if there is missing value\n",
        "destinations.isna().sum()"
      ]
    },
    {
      "cell_type": "code",
      "execution_count": 12,
      "metadata": {
        "colab": {
          "base_uri": "https://localhost:8080/"
        },
        "id": "qDA13-Xy0sdO",
        "outputId": "724049d7-acd5-4e2c-dc7b-e272bb3b1f8c"
      },
      "outputs": [
        {
          "name": "stdout",
          "output_type": "stream",
          "text": [
            "['Taman Hiburan' 'Budaya' 'Alam' 'Tempat Ibadah' 'Kuliner' 'Bahari'\n",
            " 'Pusat Perbelanjaan']\n",
            "['Bandung' 'Jakarta' 'Jakarta Utara' 'Jakarta Barat' 'Jakarta Pusat'\n",
            " 'Jakarta Selatan' 'Jakarta Timur' 'Surabaya']\n"
          ]
        }
      ],
      "source": [
        "# check the data unique of column 'kategori' and 'kota\n",
        "print(destinations.kategori.unique())\n",
        "print(destinations.kota.unique())"
      ]
    },
    {
      "cell_type": "code",
      "execution_count": 13,
      "metadata": {
        "colab": {
          "base_uri": "https://localhost:8080/"
        },
        "id": "FUNkpHu3ipj9",
        "outputId": "b9d21f35-acae-43ea-c061-62df10d100b5"
      },
      "outputs": [
        {
          "name": "stdout",
          "output_type": "stream",
          "text": [
            "<class 'pandas.core.frame.DataFrame'>\n",
            "Index: 514 entries, 0 to 514\n",
            "Data columns (total 8 columns):\n",
            " #   Column       Non-Null Count  Dtype  \n",
            "---  ------       --------------  -----  \n",
            " 0   id           514 non-null    int64  \n",
            " 1   nama_tempat  514 non-null    object \n",
            " 2   kategori     514 non-null    object \n",
            " 3   kota         514 non-null    object \n",
            " 4   alamat       514 non-null    object \n",
            " 5   deskripsi    514 non-null    object \n",
            " 6   lat          514 non-null    float64\n",
            " 7   long         514 non-null    float64\n",
            "dtypes: float64(2), int64(1), object(5)\n",
            "memory usage: 36.1+ KB\n"
          ]
        }
      ],
      "source": [
        "# check info again\n",
        "destinations.info()"
      ]
    },
    {
      "cell_type": "code",
      "execution_count": 14,
      "metadata": {
        "colab": {
          "base_uri": "https://localhost:8080/",
          "height": 206
        },
        "id": "X6v0kIwK1gJM",
        "outputId": "d50f658f-1b37-4ad1-aaa5-8b206c08aae9"
      },
      "outputs": [
        {
          "data": {
            "text/html": [
              "<div>\n",
              "<style scoped>\n",
              "    .dataframe tbody tr th:only-of-type {\n",
              "        vertical-align: middle;\n",
              "    }\n",
              "\n",
              "    .dataframe tbody tr th {\n",
              "        vertical-align: top;\n",
              "    }\n",
              "\n",
              "    .dataframe thead th {\n",
              "        text-align: right;\n",
              "    }\n",
              "</style>\n",
              "<table border=\"1\" class=\"dataframe\">\n",
              "  <thead>\n",
              "    <tr style=\"text-align: right;\">\n",
              "      <th></th>\n",
              "      <th>id</th>\n",
              "      <th>nama_tempat</th>\n",
              "      <th>kategori</th>\n",
              "      <th>kota</th>\n",
              "      <th>alamat</th>\n",
              "      <th>deskripsi</th>\n",
              "      <th>lat</th>\n",
              "      <th>long</th>\n",
              "    </tr>\n",
              "  </thead>\n",
              "  <tbody>\n",
              "    <tr>\n",
              "      <th>0</th>\n",
              "      <td>1</td>\n",
              "      <td>Trans Studio Bandung</td>\n",
              "      <td>Taman Hiburan</td>\n",
              "      <td>Bandung</td>\n",
              "      <td>Jl. Gatot Subroto No.289A, Cibangkong, Kec. Ba...</td>\n",
              "      <td>Trans Studio Bandung adalah sebuah kompleks ta...</td>\n",
              "      <td>-6.925094</td>\n",
              "      <td>107.636494</td>\n",
              "    </tr>\n",
              "    <tr>\n",
              "      <th>1</th>\n",
              "      <td>2</td>\n",
              "      <td>Farm House Susu Lembang</td>\n",
              "      <td>Taman Hiburan</td>\n",
              "      <td>Bandung</td>\n",
              "      <td>Jl. Raya Lembang No.108, Gudangkahuripan, Kec....</td>\n",
              "      <td>Farm House Susu Lembang adalah destinasi yang ...</td>\n",
              "      <td>-6.832969</td>\n",
              "      <td>107.605618</td>\n",
              "    </tr>\n",
              "    <tr>\n",
              "      <th>2</th>\n",
              "      <td>3</td>\n",
              "      <td>Dusun Bambu</td>\n",
              "      <td>Taman Hiburan</td>\n",
              "      <td>Bandung</td>\n",
              "      <td>Jl. Kolonel Masturi No.KM. 11, Kertawangi, Kec...</td>\n",
              "      <td>Dusun Bambu adalah destinasi wisata yang menaw...</td>\n",
              "      <td>-6.789715</td>\n",
              "      <td>107.579163</td>\n",
              "    </tr>\n",
              "    <tr>\n",
              "      <th>3</th>\n",
              "      <td>4</td>\n",
              "      <td>Kebun Binatang Bandung</td>\n",
              "      <td>Taman Hiburan</td>\n",
              "      <td>Bandung</td>\n",
              "      <td>Jl. Kebun Binatang No.6, Lb. Siliwangi, Kecama...</td>\n",
              "      <td>Kebun Binatang Bandung, juga dikenal sebagai K...</td>\n",
              "      <td>-6.889718</td>\n",
              "      <td>107.607728</td>\n",
              "    </tr>\n",
              "    <tr>\n",
              "      <th>4</th>\n",
              "      <td>5</td>\n",
              "      <td>Dago Dreampark</td>\n",
              "      <td>Taman Hiburan</td>\n",
              "      <td>Bandung</td>\n",
              "      <td>Jl. Dago Giri No.Km. 2.2, Pagerwangi, Kec. Lem...</td>\n",
              "      <td>Dago Dreampark adalah kompleks rekreasi yang t...</td>\n",
              "      <td>-6.848642</td>\n",
              "      <td>107.625939</td>\n",
              "    </tr>\n",
              "  </tbody>\n",
              "</table>\n",
              "</div>"
            ],
            "text/plain": [
              "   id              nama_tempat       kategori     kota  \\\n",
              "0   1     Trans Studio Bandung  Taman Hiburan  Bandung   \n",
              "1   2  Farm House Susu Lembang  Taman Hiburan  Bandung   \n",
              "2   3              Dusun Bambu  Taman Hiburan  Bandung   \n",
              "3   4   Kebun Binatang Bandung  Taman Hiburan  Bandung   \n",
              "4   5           Dago Dreampark  Taman Hiburan  Bandung   \n",
              "\n",
              "                                              alamat  \\\n",
              "0  Jl. Gatot Subroto No.289A, Cibangkong, Kec. Ba...   \n",
              "1  Jl. Raya Lembang No.108, Gudangkahuripan, Kec....   \n",
              "2  Jl. Kolonel Masturi No.KM. 11, Kertawangi, Kec...   \n",
              "3  Jl. Kebun Binatang No.6, Lb. Siliwangi, Kecama...   \n",
              "4  Jl. Dago Giri No.Km. 2.2, Pagerwangi, Kec. Lem...   \n",
              "\n",
              "                                           deskripsi       lat        long  \n",
              "0  Trans Studio Bandung adalah sebuah kompleks ta... -6.925094  107.636494  \n",
              "1  Farm House Susu Lembang adalah destinasi yang ... -6.832969  107.605618  \n",
              "2  Dusun Bambu adalah destinasi wisata yang menaw... -6.789715  107.579163  \n",
              "3  Kebun Binatang Bandung, juga dikenal sebagai K... -6.889718  107.607728  \n",
              "4  Dago Dreampark adalah kompleks rekreasi yang t... -6.848642  107.625939  "
            ]
          },
          "execution_count": 14,
          "metadata": {},
          "output_type": "execute_result"
        }
      ],
      "source": [
        "# see an overview of the data\n",
        "destinations.head()"
      ]
    },
    {
      "attachments": {},
      "cell_type": "markdown",
      "metadata": {
        "id": "Hme5ICI504Gq"
      },
      "source": [
        "### Data Preprocessing\n",
        "preprocess data may involves encoding value of features and labels, change encode to numeric. Also, process column 'deskripsi' that have a lot of word that must be cleaning and tokenizing. Use a tokenizer to convert description text into numeric vectors."
      ]
    },
    {
      "cell_type": "code",
      "execution_count": 15,
      "metadata": {
        "id": "XMec6jGBOwCv"
      },
      "outputs": [],
      "source": [
        "# Preprocessing data\n",
        "def clean_text(text):\n",
        "    # Cleaning up special characters using regex\n",
        "    text = re.sub(r'[^a-zA-Z\\s]', '', text)\n",
        "    return text"
      ]
    },
    {
      "cell_type": "code",
      "execution_count": 16,
      "metadata": {
        "id": "fZWnsxVxOybJ"
      },
      "outputs": [],
      "source": [
        "# Cleaning data kota\n",
        "destinations['clean_kota'] = destinations['kota'].apply(clean_text)\n",
        "\n",
        "# Cleaning data kategori\n",
        "destinations['clean_kategori'] = destinations['kategori'].apply(clean_text)"
      ]
    },
    {
      "cell_type": "code",
      "execution_count": 17,
      "metadata": {
        "id": "pURdZlesO5Jn"
      },
      "outputs": [],
      "source": [
        "# Preprocessing text deskripsi\n",
        "def clean_deskripsi(text):\n",
        "    # Cleaning up special characters using regex\n",
        "    text = re.sub(r'[^a-zA-Z\\s]', '', text)\n",
        "    # Changing to lowercase\n",
        "    text = text.lower()\n",
        "    # Removing stop words using NLTK\n",
        "    stop_words = set(stopwords.words('indonesian'))\n",
        "    tokens = word_tokenize(text)\n",
        "    filtered_tokens = [word for word in tokens if word not in stop_words]\n",
        "    text = ' '.join(filtered_tokens)\n",
        "    return text"
      ]
    },
    {
      "cell_type": "code",
      "execution_count": 18,
      "metadata": {
        "id": "aNwQwCcT3Ffx"
      },
      "outputs": [],
      "source": [
        "# Cleaning text deskripsi\n",
        "destinations['clean_deskripsi'] = destinations['deskripsi'].apply(clean_deskripsi)"
      ]
    },
    {
      "attachments": {},
      "cell_type": "markdown",
      "metadata": {
        "id": "HLnyVOcb2uBC"
      },
      "source": [
        "### trying Augmented Text"
      ]
    },
    {
      "cell_type": "code",
      "execution_count": 19,
      "metadata": {
        "colab": {
          "base_uri": "https://localhost:8080/"
        },
        "id": "x0QTuMl52qe0",
        "outputId": "61ce0da7-1e83-45f0-8a93-ecb47df4ac39"
      },
      "outputs": [
        {
          "name": "stderr",
          "output_type": "stream",
          "text": [
            "[nltk_data] Downloading package wordnet to\n",
            "[nltk_data]     C:\\Users\\Roro\\AppData\\Roaming\\nltk_data...\n",
            "[nltk_data]   Package wordnet is already up-to-date!\n"
          ]
        }
      ],
      "source": [
        "from nltk.corpus import wordnet\n",
        "import random\n",
        "nltk.download('wordnet')\n",
        "\n",
        "# Function to get synonyms of a word using WordNet\n",
        "def get_synonyms(word):\n",
        "    synonyms = []\n",
        "    for syn in wordnet.synsets(word):\n",
        "        for lemma in syn.lemmas():\n",
        "            synonyms.append(lemma.name())\n",
        "    return synonyms\n",
        "\n",
        "# Function to perform synonym replacement on a sentence\n",
        "def synonym_replacement(sentence, n=1):\n",
        "    tokens = nltk.word_tokenize(sentence)\n",
        "    augmented_sentences = []\n",
        "\n",
        "    for _ in range(n):\n",
        "        augmented_tokens = []\n",
        "        for token in tokens:\n",
        "            synonyms = get_synonyms(token)\n",
        "            if synonyms:\n",
        "                synonym = random.choice(synonyms)\n",
        "                augmented_tokens.append(synonym)\n",
        "            else:\n",
        "                augmented_tokens.append(token)\n",
        "        \n",
        "        augmented_sentence = \" \".join(augmented_tokens)\n",
        "        augmented_sentences.append(augmented_sentence)\n",
        "    \n",
        "    return augmented_sentences"
      ]
    },
    {
      "cell_type": "code",
      "execution_count": 20,
      "metadata": {
        "id": "nsVCRY2920jK"
      },
      "outputs": [],
      "source": [
        "# Augment the text in the DataFrame\n",
        "destinations['augmented_text'] = destinations['clean_deskripsi'].apply(lambda x: synonym_replacement(x, n=3))"
      ]
    },
    {
      "cell_type": "code",
      "execution_count": 21,
      "metadata": {
        "id": "zmieg5-F3IB3"
      },
      "outputs": [],
      "source": [
        "# Join the values in 'cleaned' column into sentences\n",
        "sentences = []\n",
        "for words in destinations['augmented_text']:\n",
        "    sentence = ' '.join(words)\n",
        "    sentences.append(sentence)"
      ]
    },
    {
      "cell_type": "code",
      "execution_count": 22,
      "metadata": {
        "colab": {
          "base_uri": "https://localhost:8080/",
          "height": 493
        },
        "id": "4NGqJ42D3K83",
        "outputId": "ec93f4ca-7b06-4cff-b193-3ec06899e481"
      },
      "outputs": [
        {
          "data": {
            "text/html": [
              "<div>\n",
              "<style scoped>\n",
              "    .dataframe tbody tr th:only-of-type {\n",
              "        vertical-align: middle;\n",
              "    }\n",
              "\n",
              "    .dataframe tbody tr th {\n",
              "        vertical-align: top;\n",
              "    }\n",
              "\n",
              "    .dataframe thead th {\n",
              "        text-align: right;\n",
              "    }\n",
              "</style>\n",
              "<table border=\"1\" class=\"dataframe\">\n",
              "  <thead>\n",
              "    <tr style=\"text-align: right;\">\n",
              "      <th></th>\n",
              "      <th>id</th>\n",
              "      <th>nama_tempat</th>\n",
              "      <th>kategori</th>\n",
              "      <th>kota</th>\n",
              "      <th>alamat</th>\n",
              "      <th>deskripsi</th>\n",
              "      <th>lat</th>\n",
              "      <th>long</th>\n",
              "      <th>clean_kota</th>\n",
              "      <th>clean_kategori</th>\n",
              "      <th>clean_deskripsi</th>\n",
              "      <th>augmented_text</th>\n",
              "      <th>new_aug</th>\n",
              "    </tr>\n",
              "  </thead>\n",
              "  <tbody>\n",
              "    <tr>\n",
              "      <th>0</th>\n",
              "      <td>1</td>\n",
              "      <td>Trans Studio Bandung</td>\n",
              "      <td>Taman Hiburan</td>\n",
              "      <td>Bandung</td>\n",
              "      <td>Jl. Gatot Subroto No.289A, Cibangkong, Kec. Ba...</td>\n",
              "      <td>Trans Studio Bandung adalah sebuah kompleks ta...</td>\n",
              "      <td>-6.925094</td>\n",
              "      <td>107.636494</td>\n",
              "      <td>Bandung</td>\n",
              "      <td>Taman Hiburan</td>\n",
              "      <td>trans studio bandung kompleks taman hiburan me...</td>\n",
              "      <td>[trans studio Bandung kompleks taman hiburan m...</td>\n",
              "      <td>trans studio Bandung kompleks taman hiburan me...</td>\n",
              "    </tr>\n",
              "    <tr>\n",
              "      <th>1</th>\n",
              "      <td>2</td>\n",
              "      <td>Farm House Susu Lembang</td>\n",
              "      <td>Taman Hiburan</td>\n",
              "      <td>Bandung</td>\n",
              "      <td>Jl. Raya Lembang No.108, Gudangkahuripan, Kec....</td>\n",
              "      <td>Farm House Susu Lembang adalah destinasi yang ...</td>\n",
              "      <td>-6.832969</td>\n",
              "      <td>107.605618</td>\n",
              "      <td>Bandung</td>\n",
              "      <td>Taman Hiburan</td>\n",
              "      <td>farm house susu lembang destinasi menawarkan p...</td>\n",
              "      <td>[farm house susu lembang destinasi menawarkan ...</td>\n",
              "      <td>farm house susu lembang destinasi menawarkan p...</td>\n",
              "    </tr>\n",
              "    <tr>\n",
              "      <th>2</th>\n",
              "      <td>3</td>\n",
              "      <td>Dusun Bambu</td>\n",
              "      <td>Taman Hiburan</td>\n",
              "      <td>Bandung</td>\n",
              "      <td>Jl. Kolonel Masturi No.KM. 11, Kertawangi, Kec...</td>\n",
              "      <td>Dusun Bambu adalah destinasi wisata yang menaw...</td>\n",
              "      <td>-6.789715</td>\n",
              "      <td>107.579163</td>\n",
              "      <td>Bandung</td>\n",
              "      <td>Taman Hiburan</td>\n",
              "      <td>dusun bambu destinasi wisata menawarkan pengal...</td>\n",
              "      <td>[dusun bambu destinasi wisata menawarkan penga...</td>\n",
              "      <td>dusun bambu destinasi wisata menawarkan pengal...</td>\n",
              "    </tr>\n",
              "    <tr>\n",
              "      <th>3</th>\n",
              "      <td>4</td>\n",
              "      <td>Kebun Binatang Bandung</td>\n",
              "      <td>Taman Hiburan</td>\n",
              "      <td>Bandung</td>\n",
              "      <td>Jl. Kebun Binatang No.6, Lb. Siliwangi, Kecama...</td>\n",
              "      <td>Kebun Binatang Bandung, juga dikenal sebagai K...</td>\n",
              "      <td>-6.889718</td>\n",
              "      <td>107.607728</td>\n",
              "      <td>Bandung</td>\n",
              "      <td>Taman Hiburan</td>\n",
              "      <td>kebun binatang bandung dikenal kebun binatang ...</td>\n",
              "      <td>[kebun binatang Bandung dikenal kebun binatang...</td>\n",
              "      <td>kebun binatang Bandung dikenal kebun binatang ...</td>\n",
              "    </tr>\n",
              "    <tr>\n",
              "      <th>4</th>\n",
              "      <td>5</td>\n",
              "      <td>Dago Dreampark</td>\n",
              "      <td>Taman Hiburan</td>\n",
              "      <td>Bandung</td>\n",
              "      <td>Jl. Dago Giri No.Km. 2.2, Pagerwangi, Kec. Lem...</td>\n",
              "      <td>Dago Dreampark adalah kompleks rekreasi yang t...</td>\n",
              "      <td>-6.848642</td>\n",
              "      <td>107.625939</td>\n",
              "      <td>Bandung</td>\n",
              "      <td>Taman Hiburan</td>\n",
              "      <td>dago dreampark kompleks rekreasi terletak dago...</td>\n",
              "      <td>[greaseball dreampark kompleks rekreasi terlet...</td>\n",
              "      <td>greaseball dreampark kompleks rekreasi terleta...</td>\n",
              "    </tr>\n",
              "  </tbody>\n",
              "</table>\n",
              "</div>"
            ],
            "text/plain": [
              "   id              nama_tempat       kategori     kota  \\\n",
              "0   1     Trans Studio Bandung  Taman Hiburan  Bandung   \n",
              "1   2  Farm House Susu Lembang  Taman Hiburan  Bandung   \n",
              "2   3              Dusun Bambu  Taman Hiburan  Bandung   \n",
              "3   4   Kebun Binatang Bandung  Taman Hiburan  Bandung   \n",
              "4   5           Dago Dreampark  Taman Hiburan  Bandung   \n",
              "\n",
              "                                              alamat  \\\n",
              "0  Jl. Gatot Subroto No.289A, Cibangkong, Kec. Ba...   \n",
              "1  Jl. Raya Lembang No.108, Gudangkahuripan, Kec....   \n",
              "2  Jl. Kolonel Masturi No.KM. 11, Kertawangi, Kec...   \n",
              "3  Jl. Kebun Binatang No.6, Lb. Siliwangi, Kecama...   \n",
              "4  Jl. Dago Giri No.Km. 2.2, Pagerwangi, Kec. Lem...   \n",
              "\n",
              "                                           deskripsi       lat        long  \\\n",
              "0  Trans Studio Bandung adalah sebuah kompleks ta... -6.925094  107.636494   \n",
              "1  Farm House Susu Lembang adalah destinasi yang ... -6.832969  107.605618   \n",
              "2  Dusun Bambu adalah destinasi wisata yang menaw... -6.789715  107.579163   \n",
              "3  Kebun Binatang Bandung, juga dikenal sebagai K... -6.889718  107.607728   \n",
              "4  Dago Dreampark adalah kompleks rekreasi yang t... -6.848642  107.625939   \n",
              "\n",
              "  clean_kota clean_kategori  \\\n",
              "0    Bandung  Taman Hiburan   \n",
              "1    Bandung  Taman Hiburan   \n",
              "2    Bandung  Taman Hiburan   \n",
              "3    Bandung  Taman Hiburan   \n",
              "4    Bandung  Taman Hiburan   \n",
              "\n",
              "                                     clean_deskripsi  \\\n",
              "0  trans studio bandung kompleks taman hiburan me...   \n",
              "1  farm house susu lembang destinasi menawarkan p...   \n",
              "2  dusun bambu destinasi wisata menawarkan pengal...   \n",
              "3  kebun binatang bandung dikenal kebun binatang ...   \n",
              "4  dago dreampark kompleks rekreasi terletak dago...   \n",
              "\n",
              "                                      augmented_text  \\\n",
              "0  [trans studio Bandung kompleks taman hiburan m...   \n",
              "1  [farm house susu lembang destinasi menawarkan ...   \n",
              "2  [dusun bambu destinasi wisata menawarkan penga...   \n",
              "3  [kebun binatang Bandung dikenal kebun binatang...   \n",
              "4  [greaseball dreampark kompleks rekreasi terlet...   \n",
              "\n",
              "                                             new_aug  \n",
              "0  trans studio Bandung kompleks taman hiburan me...  \n",
              "1  farm house susu lembang destinasi menawarkan p...  \n",
              "2  dusun bambu destinasi wisata menawarkan pengal...  \n",
              "3  kebun binatang Bandung dikenal kebun binatang ...  \n",
              "4  greaseball dreampark kompleks rekreasi terleta...  "
            ]
          },
          "execution_count": 22,
          "metadata": {},
          "output_type": "execute_result"
        }
      ],
      "source": [
        "destinations['new_aug'] = sentences\n",
        "destinations.head()"
      ]
    },
    {
      "cell_type": "code",
      "execution_count": 23,
      "metadata": {
        "id": "XQq1M1FRO7_A"
      },
      "outputs": [],
      "source": [
        "# Combined three column\n",
        "combined_text = destinations['clean_kota'] + ' ' + destinations['clean_kategori'] + ' ' + destinations['new_aug']\n",
        "\n",
        "tokenizer = Tokenizer()\n",
        "tokenizer.fit_on_texts(combined_text)\n",
        "text_sequences = tokenizer.texts_to_sequences(combined_text)\n",
        "max_sequence_length = max([len(seq) for seq in text_sequences])\n",
        "padded_sequences = pad_sequences(text_sequences, maxlen=max_sequence_length)\n",
        "\n",
        "label_encoder = LabelEncoder()\n",
        "labels = label_encoder.fit_transform(destinations['nama_tempat'])"
      ]
    },
    {
      "cell_type": "code",
      "execution_count": 24,
      "metadata": {
        "colab": {
          "base_uri": "https://localhost:8080/"
        },
        "id": "HSQW9izzF-Fz",
        "outputId": "933a87e7-0e12-478d-c07b-114ecfd8dc83"
      },
      "outputs": [
        {
          "data": {
            "text/plain": [
              "607"
            ]
          },
          "execution_count": 24,
          "metadata": {},
          "output_type": "execute_result"
        }
      ],
      "source": [
        "max_sequence_length"
      ]
    },
    {
      "attachments": {},
      "cell_type": "markdown",
      "metadata": {
        "id": "yRdQiybrnhbD"
      },
      "source": [
        "### Training Model\n",
        "- split dataset into training and testing data use this 80%-20%\n",
        "- Train the model using the training data"
      ]
    },
    {
      "cell_type": "code",
      "execution_count": 25,
      "metadata": {
        "id": "PQZEgn44PRS0"
      },
      "outputs": [],
      "source": [
        "# Division of data into training data and test data\n",
        "X_train, X_test, y_train, y_test = train_test_split(padded_sequences, labels, test_size=0.2, random_state=42)"
      ]
    },
    {
      "cell_type": "code",
      "execution_count": 26,
      "metadata": {
        "id": "4s07y-eNPUtz"
      },
      "outputs": [],
      "source": [
        "# Building deep learning model with embedding and LSTM\n",
        "vocab_size = len(tokenizer.word_index) + 1\n",
        "embedding_dim = 100\n",
        "\n",
        "model = Sequential()\n",
        "model.add(Embedding(input_dim=vocab_size, output_dim=embedding_dim, input_length=max_sequence_length))\n",
        "model.add(LSTM(units=16))\n",
        "model.add(Dense(len(label_encoder.classes_), activation='softmax'))\n",
        "\n",
        "# Compile the model\n",
        "model.compile(loss='sparse_categorical_crossentropy', \n",
        "              optimizer=Adam(), metrics=['accuracy'])"
      ]
    },
    {
      "cell_type": "code",
      "execution_count": 27,
      "metadata": {
        "colab": {
          "base_uri": "https://localhost:8080/"
        },
        "id": "ZanSlmj7asjZ",
        "outputId": "c4c0a1a2-3cbe-42bf-d9a9-4d27468caaf3"
      },
      "outputs": [
        {
          "name": "stdout",
          "output_type": "stream",
          "text": [
            "Model: \"sequential\"\n",
            "_________________________________________________________________\n",
            " Layer (type)                Output Shape              Param #   \n",
            "=================================================================\n",
            " embedding (Embedding)       (None, 607, 100)          667400    \n",
            "                                                                 \n",
            " lstm (LSTM)                 (None, 16)                7488      \n",
            "                                                                 \n",
            " dense (Dense)               (None, 514)               8738      \n",
            "                                                                 \n",
            "=================================================================\n",
            "Total params: 683,626\n",
            "Trainable params: 683,626\n",
            "Non-trainable params: 0\n",
            "_________________________________________________________________\n"
          ]
        }
      ],
      "source": [
        "model.summary()"
      ]
    },
    {
      "cell_type": "code",
      "execution_count": 28,
      "metadata": {
        "colab": {
          "base_uri": "https://localhost:8080/"
        },
        "id": "3_0Fqn0sPYBl",
        "outputId": "dc8adf8e-b56a-4f9b-db79-dfbd69017718"
      },
      "outputs": [
        {
          "name": "stdout",
          "output_type": "stream",
          "text": [
            "Epoch 1/100\n",
            "13/13 [==============================] - 8s 380ms/step - loss: 6.2446 - accuracy: 0.0000e+00 - val_loss: 6.2498 - val_accuracy: 0.0000e+00\n",
            "Epoch 2/100\n",
            "13/13 [==============================] - 4s 304ms/step - loss: 6.2328 - accuracy: 0.0706 - val_loss: 6.2618 - val_accuracy: 0.0000e+00\n",
            "Epoch 3/100\n",
            "13/13 [==============================] - 4s 316ms/step - loss: 6.2209 - accuracy: 0.1144 - val_loss: 6.2785 - val_accuracy: 0.0000e+00\n",
            "Epoch 4/100\n",
            "13/13 [==============================] - 5s 353ms/step - loss: 6.1975 - accuracy: 0.0876 - val_loss: 6.3461 - val_accuracy: 0.0000e+00\n",
            "Epoch 5/100\n",
            "13/13 [==============================] - 4s 320ms/step - loss: 6.1529 - accuracy: 0.0292 - val_loss: 6.3894 - val_accuracy: 0.0000e+00\n",
            "Epoch 6/100\n",
            "13/13 [==============================] - 5s 355ms/step - loss: 6.0898 - accuracy: 0.0754 - val_loss: 6.6862 - val_accuracy: 0.0000e+00\n",
            "Epoch 7/100\n",
            "13/13 [==============================] - 3s 265ms/step - loss: 6.0175 - accuracy: 0.0584 - val_loss: 6.6084 - val_accuracy: 0.0000e+00\n",
            "Epoch 8/100\n",
            "13/13 [==============================] - 3s 266ms/step - loss: 5.9437 - accuracy: 0.0584 - val_loss: 6.8907 - val_accuracy: 0.0000e+00\n",
            "Epoch 9/100\n",
            "13/13 [==============================] - 3s 269ms/step - loss: 5.8741 - accuracy: 0.0657 - val_loss: 7.0819 - val_accuracy: 0.0000e+00\n",
            "Epoch 10/100\n",
            "13/13 [==============================] - 5s 374ms/step - loss: 5.8221 - accuracy: 0.0584 - val_loss: 6.8447 - val_accuracy: 0.0000e+00\n",
            "Epoch 11/100\n",
            "13/13 [==============================] - 7s 502ms/step - loss: 5.7668 - accuracy: 0.0949 - val_loss: 7.1513 - val_accuracy: 0.0000e+00\n",
            "Epoch 12/100\n",
            "13/13 [==============================] - 6s 452ms/step - loss: 5.7017 - accuracy: 0.0730 - val_loss: 7.2805 - val_accuracy: 0.0000e+00\n",
            "Epoch 13/100\n",
            "13/13 [==============================] - 7s 509ms/step - loss: 5.6378 - accuracy: 0.1095 - val_loss: 7.2883 - val_accuracy: 0.0000e+00\n",
            "Epoch 14/100\n",
            "13/13 [==============================] - 7s 517ms/step - loss: 5.5801 - accuracy: 0.1217 - val_loss: 7.4417 - val_accuracy: 0.0000e+00\n",
            "Epoch 15/100\n",
            "13/13 [==============================] - 7s 516ms/step - loss: 5.5181 - accuracy: 0.1314 - val_loss: 7.4042 - val_accuracy: 0.0000e+00\n",
            "Epoch 16/100\n",
            "13/13 [==============================] - 7s 514ms/step - loss: 5.4751 - accuracy: 0.1606 - val_loss: 7.3170 - val_accuracy: 0.0000e+00\n",
            "Epoch 17/100\n",
            "13/13 [==============================] - 7s 540ms/step - loss: 5.4606 - accuracy: 0.1411 - val_loss: 7.7189 - val_accuracy: 0.0000e+00\n",
            "Epoch 18/100\n",
            "13/13 [==============================] - 4s 310ms/step - loss: 5.4510 - accuracy: 0.1411 - val_loss: 7.4897 - val_accuracy: 0.0000e+00\n",
            "Epoch 19/100\n",
            "13/13 [==============================] - 4s 280ms/step - loss: 5.3620 - accuracy: 0.1873 - val_loss: 7.8312 - val_accuracy: 0.0000e+00\n",
            "Epoch 20/100\n",
            "13/13 [==============================] - 4s 291ms/step - loss: 5.2953 - accuracy: 0.2165 - val_loss: 7.7093 - val_accuracy: 0.0000e+00\n",
            "Epoch 21/100\n",
            "13/13 [==============================] - 4s 278ms/step - loss: 5.2257 - accuracy: 0.2530 - val_loss: 7.8060 - val_accuracy: 0.0000e+00\n",
            "Epoch 22/100\n",
            "13/13 [==============================] - 3s 270ms/step - loss: 5.1649 - accuracy: 0.2555 - val_loss: 7.7930 - val_accuracy: 0.0000e+00\n",
            "Epoch 23/100\n",
            "13/13 [==============================] - 3s 275ms/step - loss: 5.1017 - accuracy: 0.2774 - val_loss: 7.9354 - val_accuracy: 0.0000e+00\n",
            "Epoch 24/100\n",
            "13/13 [==============================] - 4s 275ms/step - loss: 5.0431 - accuracy: 0.2993 - val_loss: 7.7627 - val_accuracy: 0.0000e+00\n",
            "Epoch 25/100\n",
            "13/13 [==============================] - 4s 276ms/step - loss: 4.9794 - accuracy: 0.2993 - val_loss: 7.9059 - val_accuracy: 0.0000e+00\n",
            "Epoch 26/100\n",
            "13/13 [==============================] - 4s 275ms/step - loss: 4.9259 - accuracy: 0.3212 - val_loss: 8.0713 - val_accuracy: 0.0000e+00\n",
            "Epoch 27/100\n",
            "13/13 [==============================] - 3s 262ms/step - loss: 4.8756 - accuracy: 0.3090 - val_loss: 7.9585 - val_accuracy: 0.0000e+00\n",
            "Epoch 28/100\n",
            "13/13 [==============================] - 4s 292ms/step - loss: 4.8135 - accuracy: 0.3187 - val_loss: 7.9691 - val_accuracy: 0.0000e+00\n",
            "Epoch 29/100\n",
            "13/13 [==============================] - 4s 297ms/step - loss: 4.7489 - accuracy: 0.3528 - val_loss: 8.1119 - val_accuracy: 0.0000e+00\n",
            "Epoch 30/100\n",
            "13/13 [==============================] - 4s 286ms/step - loss: 4.6961 - accuracy: 0.3747 - val_loss: 7.9845 - val_accuracy: 0.0000e+00\n",
            "Epoch 31/100\n",
            "13/13 [==============================] - 3s 258ms/step - loss: 4.6379 - accuracy: 0.3990 - val_loss: 7.9794 - val_accuracy: 0.0000e+00\n",
            "Epoch 32/100\n",
            "13/13 [==============================] - 3s 261ms/step - loss: 4.5785 - accuracy: 0.4088 - val_loss: 7.9717 - val_accuracy: 0.0000e+00\n",
            "Epoch 33/100\n",
            "13/13 [==============================] - 3s 257ms/step - loss: 4.5216 - accuracy: 0.4161 - val_loss: 7.9251 - val_accuracy: 0.0000e+00\n",
            "Epoch 34/100\n",
            "13/13 [==============================] - 4s 282ms/step - loss: 4.4659 - accuracy: 0.4355 - val_loss: 7.8525 - val_accuracy: 0.0000e+00\n",
            "Epoch 35/100\n",
            "13/13 [==============================] - 4s 279ms/step - loss: 4.4139 - accuracy: 0.4501 - val_loss: 7.6276 - val_accuracy: 0.0000e+00\n",
            "Epoch 36/100\n",
            "13/13 [==============================] - 4s 276ms/step - loss: 4.4174 - accuracy: 0.4063 - val_loss: 7.7305 - val_accuracy: 0.0000e+00\n",
            "Epoch 37/100\n",
            "13/13 [==============================] - 3s 272ms/step - loss: 4.3856 - accuracy: 0.4234 - val_loss: 7.6247 - val_accuracy: 0.0000e+00\n",
            "Epoch 38/100\n",
            "13/13 [==============================] - 3s 273ms/step - loss: 4.3669 - accuracy: 0.4161 - val_loss: 7.9967 - val_accuracy: 0.0000e+00\n",
            "Epoch 39/100\n",
            "13/13 [==============================] - 4s 286ms/step - loss: 4.4146 - accuracy: 0.3942 - val_loss: 7.8495 - val_accuracy: 0.0000e+00\n",
            "Epoch 40/100\n",
            "13/13 [==============================] - 3s 251ms/step - loss: 4.3290 - accuracy: 0.4112 - val_loss: 7.7945 - val_accuracy: 0.0000e+00\n",
            "Epoch 41/100\n",
            "13/13 [==============================] - 4s 283ms/step - loss: 4.2693 - accuracy: 0.4355 - val_loss: 7.7935 - val_accuracy: 0.0000e+00\n",
            "Epoch 42/100\n",
            "13/13 [==============================] - 4s 294ms/step - loss: 4.2122 - accuracy: 0.4526 - val_loss: 7.8244 - val_accuracy: 0.0000e+00\n",
            "Epoch 43/100\n",
            "13/13 [==============================] - 3s 273ms/step - loss: 4.1665 - accuracy: 0.4599 - val_loss: 7.7828 - val_accuracy: 0.0000e+00\n",
            "Epoch 44/100\n",
            "13/13 [==============================] - 4s 292ms/step - loss: 4.1194 - accuracy: 0.4720 - val_loss: 7.8024 - val_accuracy: 0.0000e+00\n",
            "Epoch 45/100\n",
            "13/13 [==============================] - 4s 276ms/step - loss: 4.0779 - accuracy: 0.4939 - val_loss: 7.8507 - val_accuracy: 0.0000e+00\n",
            "Epoch 46/100\n",
            "13/13 [==============================] - 3s 265ms/step - loss: 4.0431 - accuracy: 0.4964 - val_loss: 7.8407 - val_accuracy: 0.0000e+00\n",
            "Epoch 47/100\n",
            "13/13 [==============================] - 4s 271ms/step - loss: 4.0251 - accuracy: 0.4988 - val_loss: 7.8248 - val_accuracy: 0.0000e+00\n",
            "Epoch 48/100\n",
            "13/13 [==============================] - 3s 268ms/step - loss: 3.9735 - accuracy: 0.5231 - val_loss: 7.9481 - val_accuracy: 0.0000e+00\n",
            "Epoch 49/100\n",
            "13/13 [==============================] - 3s 271ms/step - loss: 3.9358 - accuracy: 0.5304 - val_loss: 7.9614 - val_accuracy: 0.0000e+00\n",
            "Epoch 50/100\n",
            "13/13 [==============================] - 4s 282ms/step - loss: 3.8988 - accuracy: 0.5255 - val_loss: 7.9472 - val_accuracy: 0.0000e+00\n",
            "Epoch 51/100\n",
            "13/13 [==============================] - 4s 280ms/step - loss: 3.8649 - accuracy: 0.5304 - val_loss: 7.9204 - val_accuracy: 0.0000e+00\n",
            "Epoch 52/100\n",
            "13/13 [==============================] - 4s 280ms/step - loss: 3.8315 - accuracy: 0.5499 - val_loss: 7.9492 - val_accuracy: 0.0000e+00\n",
            "Epoch 53/100\n",
            "13/13 [==============================] - 3s 274ms/step - loss: 3.7995 - accuracy: 0.5499 - val_loss: 7.9437 - val_accuracy: 0.0000e+00\n",
            "Epoch 54/100\n",
            "13/13 [==============================] - 4s 283ms/step - loss: 3.7731 - accuracy: 0.5499 - val_loss: 7.8996 - val_accuracy: 0.0000e+00\n",
            "Epoch 55/100\n",
            "13/13 [==============================] - 3s 265ms/step - loss: 3.7448 - accuracy: 0.5572 - val_loss: 7.9897 - val_accuracy: 0.0000e+00\n",
            "Epoch 56/100\n",
            "13/13 [==============================] - 4s 279ms/step - loss: 3.7133 - accuracy: 0.5645 - val_loss: 7.8677 - val_accuracy: 0.0000e+00\n",
            "Epoch 57/100\n",
            "13/13 [==============================] - 4s 282ms/step - loss: 3.6874 - accuracy: 0.5693 - val_loss: 7.9432 - val_accuracy: 0.0000e+00\n",
            "Epoch 58/100\n",
            "13/13 [==============================] - 4s 288ms/step - loss: 3.6579 - accuracy: 0.5766 - val_loss: 7.9808 - val_accuracy: 0.0000e+00\n",
            "Epoch 59/100\n",
            "13/13 [==============================] - 3s 213ms/step - loss: 3.6299 - accuracy: 0.5693 - val_loss: 7.9743 - val_accuracy: 0.0000e+00\n",
            "Epoch 60/100\n",
            "13/13 [==============================] - 3s 214ms/step - loss: 3.6016 - accuracy: 0.5742 - val_loss: 7.9922 - val_accuracy: 0.0000e+00\n",
            "Epoch 61/100\n",
            "13/13 [==============================] - 3s 241ms/step - loss: 3.5735 - accuracy: 0.5693 - val_loss: 7.9759 - val_accuracy: 0.0000e+00\n",
            "Epoch 62/100\n",
            "13/13 [==============================] - 3s 242ms/step - loss: 3.5465 - accuracy: 0.5815 - val_loss: 7.9937 - val_accuracy: 0.0000e+00\n",
            "Epoch 63/100\n",
            "13/13 [==============================] - 3s 238ms/step - loss: 3.5197 - accuracy: 0.5912 - val_loss: 8.0005 - val_accuracy: 0.0000e+00\n",
            "Epoch 64/100\n",
            "13/13 [==============================] - 3s 232ms/step - loss: 3.4943 - accuracy: 0.5839 - val_loss: 8.0081 - val_accuracy: 0.0000e+00\n",
            "Epoch 65/100\n",
            "13/13 [==============================] - 3s 238ms/step - loss: 3.4689 - accuracy: 0.5937 - val_loss: 8.0039 - val_accuracy: 0.0000e+00\n",
            "Epoch 66/100\n",
            "13/13 [==============================] - 3s 229ms/step - loss: 3.4429 - accuracy: 0.6010 - val_loss: 8.0137 - val_accuracy: 0.0000e+00\n",
            "Epoch 67/100\n",
            "13/13 [==============================] - 3s 232ms/step - loss: 3.4174 - accuracy: 0.6058 - val_loss: 8.0255 - val_accuracy: 0.0000e+00\n",
            "Epoch 68/100\n",
            "13/13 [==============================] - 3s 245ms/step - loss: 3.3934 - accuracy: 0.5985 - val_loss: 8.0232 - val_accuracy: 0.0000e+00\n",
            "Epoch 69/100\n",
            "13/13 [==============================] - 3s 238ms/step - loss: 3.3693 - accuracy: 0.6058 - val_loss: 8.0466 - val_accuracy: 0.0000e+00\n",
            "Epoch 70/100\n",
            "13/13 [==============================] - 3s 232ms/step - loss: 3.3456 - accuracy: 0.6034 - val_loss: 8.0538 - val_accuracy: 0.0000e+00\n",
            "Epoch 71/100\n",
            "13/13 [==============================] - 3s 245ms/step - loss: 3.3228 - accuracy: 0.6034 - val_loss: 8.0592 - val_accuracy: 0.0000e+00\n",
            "Epoch 72/100\n",
            "13/13 [==============================] - 4s 330ms/step - loss: 3.2998 - accuracy: 0.6180 - val_loss: 8.0806 - val_accuracy: 0.0000e+00\n",
            "Epoch 73/100\n",
            "13/13 [==============================] - 3s 239ms/step - loss: 3.2776 - accuracy: 0.6107 - val_loss: 8.0854 - val_accuracy: 0.0000e+00\n",
            "Epoch 74/100\n",
            "13/13 [==============================] - 3s 241ms/step - loss: 3.2557 - accuracy: 0.6229 - val_loss: 8.1200 - val_accuracy: 0.0000e+00\n",
            "Epoch 75/100\n",
            "13/13 [==============================] - 3s 241ms/step - loss: 3.2351 - accuracy: 0.6204 - val_loss: 8.0993 - val_accuracy: 0.0000e+00\n",
            "Epoch 76/100\n",
            "13/13 [==============================] - 3s 240ms/step - loss: 3.2129 - accuracy: 0.6180 - val_loss: 8.1093 - val_accuracy: 0.0000e+00\n",
            "Epoch 77/100\n",
            "13/13 [==============================] - 3s 247ms/step - loss: 3.1919 - accuracy: 0.6131 - val_loss: 8.1305 - val_accuracy: 0.0000e+00\n",
            "Epoch 78/100\n",
            "13/13 [==============================] - 3s 239ms/step - loss: 3.1706 - accuracy: 0.6156 - val_loss: 8.1473 - val_accuracy: 0.0000e+00\n",
            "Epoch 79/100\n",
            "13/13 [==============================] - 3s 237ms/step - loss: 3.1498 - accuracy: 0.6229 - val_loss: 8.1724 - val_accuracy: 0.0000e+00\n",
            "Epoch 80/100\n",
            "13/13 [==============================] - 3s 233ms/step - loss: 3.1294 - accuracy: 0.6277 - val_loss: 8.1759 - val_accuracy: 0.0000e+00\n",
            "Epoch 81/100\n",
            "13/13 [==============================] - 3s 239ms/step - loss: 3.1097 - accuracy: 0.6326 - val_loss: 8.1743 - val_accuracy: 0.0000e+00\n",
            "Epoch 82/100\n",
            "13/13 [==============================] - 3s 229ms/step - loss: 3.0898 - accuracy: 0.6302 - val_loss: 8.1790 - val_accuracy: 0.0000e+00\n",
            "Epoch 83/100\n",
            "13/13 [==============================] - 3s 232ms/step - loss: 3.0702 - accuracy: 0.6204 - val_loss: 8.1918 - val_accuracy: 0.0000e+00\n",
            "Epoch 84/100\n",
            "13/13 [==============================] - 3s 243ms/step - loss: 3.0510 - accuracy: 0.6277 - val_loss: 8.1962 - val_accuracy: 0.0000e+00\n",
            "Epoch 85/100\n",
            "13/13 [==============================] - 3s 254ms/step - loss: 3.0332 - accuracy: 0.6229 - val_loss: 8.2137 - val_accuracy: 0.0000e+00\n",
            "Epoch 86/100\n",
            "13/13 [==============================] - 3s 231ms/step - loss: 3.0141 - accuracy: 0.6399 - val_loss: 8.2176 - val_accuracy: 0.0000e+00\n",
            "Epoch 87/100\n",
            "13/13 [==============================] - 3s 229ms/step - loss: 2.9977 - accuracy: 0.6326 - val_loss: 8.3283 - val_accuracy: 0.0000e+00\n",
            "Epoch 88/100\n",
            "13/13 [==============================] - 3s 227ms/step - loss: 2.9948 - accuracy: 0.6302 - val_loss: 8.2181 - val_accuracy: 0.0000e+00\n",
            "Epoch 89/100\n",
            "13/13 [==============================] - 3s 228ms/step - loss: 2.9765 - accuracy: 0.6326 - val_loss: 8.2478 - val_accuracy: 0.0000e+00\n",
            "Epoch 90/100\n",
            "13/13 [==============================] - 3s 230ms/step - loss: 2.9646 - accuracy: 0.6253 - val_loss: 8.2991 - val_accuracy: 0.0000e+00\n",
            "Epoch 91/100\n",
            "13/13 [==============================] - 3s 227ms/step - loss: 2.9405 - accuracy: 0.6277 - val_loss: 8.3456 - val_accuracy: 0.0000e+00\n",
            "Epoch 92/100\n",
            "13/13 [==============================] - 3s 229ms/step - loss: 2.9231 - accuracy: 0.6399 - val_loss: 8.3436 - val_accuracy: 0.0000e+00\n",
            "Epoch 93/100\n",
            "13/13 [==============================] - 3s 229ms/step - loss: 2.9006 - accuracy: 0.6326 - val_loss: 8.3310 - val_accuracy: 0.0000e+00\n",
            "Epoch 94/100\n",
            "13/13 [==============================] - 3s 222ms/step - loss: 2.8841 - accuracy: 0.6399 - val_loss: 8.3312 - val_accuracy: 0.0000e+00\n",
            "Epoch 95/100\n",
            "13/13 [==============================] - 3s 230ms/step - loss: 2.8650 - accuracy: 0.6448 - val_loss: 8.3864 - val_accuracy: 0.0000e+00\n",
            "Epoch 96/100\n",
            "13/13 [==============================] - 3s 264ms/step - loss: 2.8499 - accuracy: 0.6496 - val_loss: 8.4280 - val_accuracy: 0.0000e+00\n",
            "Epoch 97/100\n",
            "13/13 [==============================] - 4s 324ms/step - loss: 2.8350 - accuracy: 0.6472 - val_loss: 8.4444 - val_accuracy: 0.0000e+00\n",
            "Epoch 98/100\n",
            "13/13 [==============================] - 3s 259ms/step - loss: 2.8175 - accuracy: 0.6399 - val_loss: 8.4396 - val_accuracy: 0.0000e+00\n",
            "Epoch 99/100\n",
            "13/13 [==============================] - 3s 263ms/step - loss: 2.8010 - accuracy: 0.6448 - val_loss: 8.4330 - val_accuracy: 0.0000e+00\n",
            "Epoch 100/100\n",
            "13/13 [==============================] - 4s 293ms/step - loss: 2.7838 - accuracy: 0.6496 - val_loss: 8.4397 - val_accuracy: 0.0000e+00\n"
          ]
        }
      ],
      "source": [
        "# Training model with early stopping\n",
        "#early_stopping = EarlyStopping(patience=10, restore_best_weights=True)\n",
        "#history = model.fit(X_train, y_train, validation_data=(X_test, y_test), \n",
        "#                   batch_size=32, epochs=20, callbacks=[early_stopping])\n",
        "history = model.fit(X_train, y_train, validation_data=(X_test, y_test), \n",
        "                    batch_size=32, epochs=100)"
      ]
    },
    {
      "cell_type": "code",
      "execution_count": 29,
      "metadata": {
        "id": "JqpdpebR2yxa"
      },
      "outputs": [],
      "source": [
        "# Display accuracy and loss\n",
        "train_acc = history.history['accuracy']\n",
        "val_acc = history.history['val_accuracy']\n",
        "train_loss = history.history['loss']\n",
        "val_loss = history.history['val_loss']\n",
        "\n",
        "epochs = range(1, len(train_acc) + 1)"
      ]
    },
    {
      "cell_type": "code",
      "execution_count": 30,
      "metadata": {
        "colab": {
          "base_uri": "https://localhost:8080/",
          "height": 472
        },
        "id": "Zd5agcIOQS6R",
        "outputId": "0fd775da-0780-404a-f86f-1810d6519386"
      },
      "outputs": [
        {
          "data": {
            "image/png": "[encoded data removed]",
            "text/plain": [
              "<Figure size 640x480 with 1 Axes>"
            ]
          },
          "metadata": {},
          "output_type": "display_data"
        }
      ],
      "source": [
        "# Plotting Accuracy\n",
        "plt.plot(epochs, train_acc, 'b', label='Training Accuracy')\n",
        "plt.plot(epochs, val_acc, 'r', label='Validation Accuracy')\n",
        "plt.title('Training and Validation Accuracy')\n",
        "plt.xlabel('Epochs')\n",
        "plt.ylabel('Accuracy')\n",
        "plt.legend()\n",
        "plt.show()"
      ]
    },
    {
      "cell_type": "code",
      "execution_count": 31,
      "metadata": {
        "colab": {
          "base_uri": "https://localhost:8080/",
          "height": 472
        },
        "id": "sD8mycF7QVG_",
        "outputId": "759d9142-3918-47ed-ba4f-49c961f30f52"
      },
      "outputs": [
        {
          "data": {
            "image/png": "[encoded data removed]",
            "text/plain": [
              "<Figure size 640x480 with 1 Axes>"
            ]
          },
          "metadata": {},
          "output_type": "display_data"
        }
      ],
      "source": [
        "# Plotting loss\n",
        "plt.plot(epochs, train_loss, 'b', label='Training Loss')\n",
        "plt.plot(epochs, val_loss, 'r', label='Validation Loss')\n",
        "plt.title('Training and Validation Loss')\n",
        "plt.xlabel('Epochs')\n",
        "plt.ylabel('Loss')\n",
        "plt.legend()\n",
        "plt.show()"
      ]
    },
    {
      "attachments": {},
      "cell_type": "markdown",
      "metadata": {
        "id": "FWjR-M9H1--i"
      },
      "source": [
        "## Predict the model\n",
        "\n",
        "Make Recommendation System"
      ]
    },
    {
      "cell_type": "code",
      "execution_count": 32,
      "metadata": {
        "id": "rmQaiQYt2LhB"
      },
      "outputs": [],
      "source": [
        "# Recomendation Function\n",
        "def recommend_places(input_text, top_n=5):\n",
        "    input_sequence = tokenizer.texts_to_sequences([input_text])\n",
        "    input_sequence = pad_sequences(input_sequence, maxlen=max_sequence_length)\n",
        "    predictions = model.predict(input_sequence)\n",
        "    top_indices = np.argsort(predictions.squeeze())[:-top_n-1:-1]\n",
        "    recommended_labels = label_encoder.inverse_transform(top_indices)\n",
        "    recommendations = destinations[destinations['nama_tempat'].isin(recommended_labels)]\n",
        "    return recommendations"
      ]
    },
    {
      "cell_type": "code",
      "execution_count": 33,
      "metadata": {
        "colab": {
          "base_uri": "https://localhost:8080/"
        },
        "id": "pNNihD0G2B5V",
        "outputId": "0de5ec69-f802-4980-b4dc-ab1785b8a06b"
      },
      "outputs": [
        {
          "name": "stdout",
          "output_type": "stream",
          "text": [
            "1/1 [==============================] - 0s 495ms/step\n",
            "                               nama_tempat           kota       kategori  \\\n",
            "61                             Jalan Braga        Bandung         Budaya   \n",
            "302               Sate Maranggi Padjajaran  Jakarta Timur        Kuliner   \n",
            "316             Midori Japanese Restaurant  Jakarta Utara        Kuliner   \n",
            "419  Kayu Contemporary Japanese Restaurant       Surabaya        Kuliner   \n",
            "511                 Klenteng Sanggar Agung       Surabaya  Tempat Ibadah   \n",
            "\n",
            "                                                alamat       lat        long  \\\n",
            "61       Jl. Braga, Braga, Sumur Bandung, Kota Bandung -6.915053  107.608984   \n",
            "302  Jl. RA. Fadillah, RT.3/RW.6, Cijantung, Kec. P... -6.330715  106.845542   \n",
            "316  Gading Bukit Indah, Jl. Raya Gading Kirana No.... -6.149312  106.898688   \n",
            "419  Srijaya, Jl. Mayjen Sungkono No.212-214, Putat... -7.287287  112.706545   \n",
            "511  Jl. Sukolilo No.100, Sukolilo Baru, Kec. Bulak... -7.246944  112.802222   \n",
            "\n",
            "                                             deskripsi  \n",
            "61   Jalan Braga adalah sebuah destinasi wisata yan...  \n",
            "302  Sate Maranggi Padjajaran menyajikan sate maran...  \n",
            "316  Jika suka pada masakan Jepang atau tertarik me...  \n",
            "419  Kayu Contemporary Japanese Restaurant merupaka...  \n",
            "511  Kelenteng Sanggar Agung atau Klenteng Hong San...  \n"
          ]
        }
      ],
      "source": [
        "# Recommendation function usage example\n",
        "input_text = \"Museum\"\n",
        "recommended_places = recommend_places(input_text)\n",
        "\n",
        "# Display recommendation results\n",
        "print(recommended_places[['nama_tempat', 'kota', 'kategori', 'alamat', 'lat', 'long', 'deskripsi']])"
      ]
    },
    {
      "attachments": {},
      "cell_type": "markdown",
      "metadata": {
        "id": "BBj8YS2S2UTd"
      },
      "source": [
        "## Deployment\n",
        "output the h5 model"
      ]
    },
    {
      "cell_type": "code",
      "execution_count": 34,
      "metadata": {
        "id": "rsHUtr592YSN"
      },
      "outputs": [],
      "source": [
        "#Save the trained model as a Keras HDF5 file. \n",
        "\n",
        "saved_model_path = \"./model_recommendation.h5\"\n",
        "model.save(saved_model_path)"
      ]
    },
    {
      "cell_type": "code",
      "execution_count": 35,
      "metadata": {
        "colab": {
          "base_uri": "https://localhost:8080/"
        },
        "id": "E9TQ71Dl2OWc",
        "outputId": "3dfd2784-f21f-4084-cb90-790a8b9cd771"
      },
      "outputs": [
        {
          "data": {
            "text/plain": [
              "['label_encoder.pkl']"
            ]
          },
          "execution_count": 35,
          "metadata": {},
          "output_type": "execute_result"
        }
      ],
      "source": [
        "import joblib\n",
        "\n",
        "# Menyimpan label_encoder ke dalam file\n",
        "joblib.dump(label_encoder, 'label_encoder.pkl')"
      ]
    },
    {
      "cell_type": "code",
      "execution_count": 36,
      "metadata": {
        "id": "j90817cn2ZtI"
      },
      "outputs": [],
      "source": [
        "#from google.colab import files\n",
        "# Download the model file\n",
        "# files.download('model_recommendation_v2.h5')"
      ]
    },
    {
      "attachments": {},
      "cell_type": "markdown",
      "metadata": {
        "id": "OoKq8LL_0kUh"
      },
      "source": [
        "## Try Load model"
      ]
    },
    {
      "cell_type": "code",
      "execution_count": 2,
      "metadata": {
        "colab": {
          "base_uri": "https://localhost:8080/"
        },
        "id": "Bd6OEKSY0nEr",
        "outputId": "4b1e257d-e321-4bd3-d444-d1bc572b1995"
      },
      "outputs": [
        {
          "name": "stdout",
          "output_type": "stream",
          "text": [
            "1/1 [==============================] - 0s 364ms/step\n",
            "                     nama_tempat           kota            kategori  \\\n",
            "25                 Taman Begonia        Bandung       Taman Hiburan   \n",
            "302     Sate Maranggi Padjajaran  Jakarta Timur             Kuliner   \n",
            "316   Midori Japanese Restaurant  Jakarta Utara             Kuliner   \n",
            "478  Lagoon Avenue Mall Sungkono       Surabaya  Pusat Perbelanjaan   \n",
            "511       Klenteng Sanggar Agung       Surabaya       Tempat Ibadah   \n",
            "\n",
            "                                                alamat       lat        long  \\\n",
            "25   Jl. Maribaya No.120 A, Langensari, Kec. Lemban... -6.826016  107.638356   \n",
            "302  Jl. RA. Fadillah, RT.3/RW.6, Cijantung, Kec. P... -6.330715  106.845542   \n",
            "316  Gading Bukit Indah, Jl. Raya Gading Kirana No.... -6.149312  106.898688   \n",
            "478  Blok RA No. Kav 9-10, Jl. KH Abdul Wahab Siami... -7.289673  112.706674   \n",
            "511  Jl. Sukolilo No.100, Sukolilo Baru, Kec. Bulak... -7.246944  112.802222   \n",
            "\n",
            "                                             deskripsi  \n",
            "25   Taman Begonia adalah sebuah taman bunga yang t...  \n",
            "302  Sate Maranggi Padjajaran menyajikan sate maran...  \n",
            "316  Jika suka pada masakan Jepang atau tertarik me...  \n",
            "478  Lagoon Avenue Mall Sungkono (LAVE Mall)adalah ...  \n",
            "511  Kelenteng Sanggar Agung atau Klenteng Hong San...  \n"
          ]
        }
      ],
      "source": [
        "import tensorflow as tf\n",
        "import numpy as np\n",
        "import pandas as pd\n",
        "import joblib\n",
        "from tensorflow.keras.preprocessing.text import Tokenizer\n",
        "\n",
        "# Load the model from GCP storage\n",
        "#model_path = 'gs://your-bucket/model_recommendation_v2.h5'\n",
        "model = tf.keras.models.load_model('model_recommendation.h5')\n",
        "\n",
        "# Memuat label_encoder dari file terpisah\n",
        "label_encoder = joblib.load('label_encoder.pkl')\n",
        "\n",
        "# define Tokenizer\n",
        "tokenizer = Tokenizer()\n",
        "\n",
        "# Load destinations data\n",
        "#destinations_path = 'gs://your-bucket/data_destinasi_wisata.csv'\n",
        "destinations = pd.read_csv('data_destinasi_wisata.csv')\n",
        "\n",
        "# Set max_sequence_length based on the model architecture\n",
        "max_sequence_length = 607  # Set the maximum sequence length used in the model\n",
        "\n",
        "# Function for content-based recommendation\n",
        "def recommend(input_text):\n",
        "    input_sequence = tokenizer.texts_to_sequences([input_text])\n",
        "    input_sequence = tf.keras.preprocessing.sequence.pad_sequences(input_sequence, maxlen=max_sequence_length)\n",
        "    predictions = model.predict(input_sequence)\n",
        "    top_indices = np.argsort(predictions.squeeze())[::-1][:5]\n",
        "    recommended_labels = label_encoder.inverse_transform(top_indices)\n",
        "    recommendations = destinations[destinations['nama_tempat'].isin(recommended_labels)]\n",
        "    return recommendations[['nama_tempat', 'kota', 'kategori', 'alamat', 'lat', 'long', 'deskripsi']]\n",
        "\n",
        "# Example usage\n",
        "input_text = \"Monumen Tugu Pahlawan\"\n",
        "recommended_places = recommend(input_text)\n",
        "\n",
        "# Display recommendation results\n",
        "print(recommended_places)"
      ]
    }
  ],
  "metadata": {
    "colab": {
      "provenance": []
    },
    "kernelspec": {
      "display_name": "Python 3",
      "name": "python3"
    },
    "language_info": {
      "codemirror_mode": {
        "name": "ipython",
        "version": 3
      },
      "file_extension": ".py",
      "mimetype": "text/x-python",
      "name": "python",
      "nbconvert_exporter": "python",
      "pygments_lexer": "ipython3",
      "version": "3.10.10"
    }
  },
  "nbformat": 4,
  "nbformat_minor": 0
}
